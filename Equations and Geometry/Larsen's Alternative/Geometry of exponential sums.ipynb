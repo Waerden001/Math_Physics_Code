{
 "cells": [
  {
   "cell_type": "markdown",
   "metadata": {
    "collapsed": false
   },
   "source": [
    "# Exponential sums, reductive groups, moments, differential equations and monodromy\n",
    "\n",
    "References:\n",
    "- \n",
    "\n",
    "Goal: Geometric and intuitive understanding of arithmetic sums like\n",
    "\n",
    "- $S(a;q)=\\displaystyle \\sum_{x\\in \\mathbf{F}_{q}^{\\times}}\\psi_{\\mathbf{F}_{q}/\\mathbf{F}_{p}}(ax+x^{-1})$\n",
    "- $T(a,b;q)=\\displaystyle \\sum_{x\\in \\mathbf{F}_{q}^{\\times}}\\psi_{\\mathbf{F}_{q}/\\mathbf{F}_{p}}(ax+bx^{-1})$\n",
    "- $S_{3}(a;q)=\\displaystyle \\frac{1}{p}\\sum_{x, y\\in \\mathbf{F}_{p}^{\\times}}\\exp(\\frac{x+y+a(xy)^{-1}}{p})$\n",
    "\n",
    "\n",
    "- $x\\in \\mathbf{F}_{q}^{\\times}\\leftrightarrow V(\\mathbf{F}_{q})$ for some scheme $V$ over $\\mathbf{F}_{p}$, $V$ is affine in many cases\n",
    "- $\\sum_{x\\in \\mathbf{F}_{q}^{\\times}}\\leftrightarrow \\displaystyle \\sum_{x\\in V(E)}$, for some field extension $E/k$\n",
    "- $ax+x^{-1}\\leftrightarrow \\text{(a family of algebraic functions )f+tg}$ on the scheme $V\\rightarrow \\mathrm{Spec}(R)\\ni t$. \n",
    "- $\\psi_{E}(f(v)):=\\psi(\\mathrm{Trace}_{E/k}(f(v)))=\\mathrm{Trace}(\\mathrm{Frob}_{E,v}|\\mathscr{L}_{\\psi(f)})$ for some rank one lisse $\\overline{\\mathbf{Q}}_{\\ell}$-sheaf $\\mathscr{L}_{\\psi(f)}$.\n",
    "- For each term in the sums above, we can add another character, namely, each term could be like $\\chi_{2}\\psi(....)$, this $\\chi$ corresponds to the $\\mathscr{G}$ in $\\mathscr{G}\\otimes \\mathscr{L}_{\\psi(f)}$.\n",
    "- $\\sum_{v\\in V(E)}\\psi_{E}(tf(v))$ or $\\sum_{v\\in V(E)}(f(v)+tg(v))$ can be viewed as finite field analogues of \"path integral\" over $V_{\\mathbf{C}}$, namely\n",
    "$$\\int e^{tf(v)}dv, \\int e^{f(v)+tg(v)}dv.$$\n",
    "$\\int h(v)e^{tf(v)}$ or $\\int h(v)e^{f(v)+tg(v)}dv$ where $h$ can be any $\\mathbf{C}[t^{\\pm}]$(resp $\\mathbf{C}[t]$) linear combination of polynomial functions on $V_{\\mathbf{C}}$, the set of all such formal integral form a certain $\\mathscr{D}$-module, the differential Galois group associated to the system of differential equations come from the module, is the common value for $G_{\\mathrm{geom}}$, the geometric monodromy groups. \n",
    "- The image of the Frobenius elements in $G_{\\mathrm{geom}}$(which is a semisimple algebraic group), up to semi-simplification and conjugation, lies in the maximal torus $K\\subset G_{\\mathrm{geom}}$, then as $n\\rightarrow +\\infty$ in $q=p^{n}$, $\\cos(\\theta_{q,t})$, interpreted as the trace of the image conjugate class in $K$ is equidistributed(Deligne's equidistribution theorem). If the rank of $K$ is bigger than $1$, those conjugate classes(image of the Frobenius elements) can be viewed as \"generalized angles\", in view of $\\cos(\\theta_{q,t})$ in the $SU(2)\\hookrightarrow SL(2, \\mathbf{C})$ case. \n"
   ]
  },
  {
   "cell_type": "markdown",
   "metadata": {
    "collapsed": false
   },
   "source": [
    "This part is taken from Katz's lectures. \n",
    "\n",
    "Example 2. Let $p$ be a prime with $p\\geq 5$, \n",
    "$$R=\\mathbf{F}_{p}[T, \\frac{1}{T(T-27)}],$$\n",
    "$V$ the affine curve $y^2=4x^3-Tx-T$. This is (the complement of the origin in) an elliptic curve over $R$. Its $j$-invariant, $\\frac{12^3 T}{T-27}$, is nonconstant (we took $p\\geq 5$ to assure this). For each power $q$ of $p$, and each $t\\in \\mathbf{F}_{q}$ with $t\\neq 0, 27$, this equation is over $\\mathbf{F}_{q}$, with $T\\mapsto t$, is an elliptic curve. Just as above, it has an associated angle $\\theta_{q,t}$ in $[0, \\pi]$ such that $q-N(V;q,t)=2\\sqrt{q}\\cos(\\theta_{q,t})$.\n",
    "\n",
    "Another way of viewing this is via $f:X=V\\rightarrow \\mathrm{Spec}(R)$, $\\mathscr{G}=R^{1}f_{!}\\mathbf{Q}_{\\ell}$, and we have\n",
    "$$\\mathrm{Trace}(\\mathrm{Frob}_{q,t}|\\mathscr{G}) = q-N(V;q,t)=2\\sqrt{q}\\cos(\\theta_{q,t}),$$\n",
    "namely\n",
    "$$N(V;q,t)=\\mathrm{Trace}(\\mathrm{Frob}_{q,t}|R^{2}f_{!}\\mathbf{Q}_{\\ell})-\\mathrm{Trace}(\\mathrm{Frob}_{q,t}|R^{1}f_{!}\\mathbf{Q}_{\\ell}).$$\n",
    "Now if we Tate-twist $\\mathscr{G}$ by $\\frac{1}{2}$, $\\mathscr{F}=\\mathscr{G}\\otimes_{\\mathbf{Q}_{\\ell}}(\\frac{1}{2})$, all we have done is to divide the traces by $\\sqrt{q}$:\n",
    "$$\\cos(\\theta_{q,t})=\\frac{q-N(V:q,t)}{\\sqrt{q}}=\\frac{1}{2}\\mathrm{Trace}(\\mathrm{Frob}_{q,t}|\\mathscr{F})$$\n",
    "\n",
    "- \"The angle $\\theta_{q,t}$ that we discussed at such length in the first lecture are the ones whose cosines are given by $\\frac{1}{2}\\times$ the traces of Frobenius of a lissse rank two sheaf on $Y$ which is pure of weight $0$! Believe it or not, this actually represents a tremendous conceptual advance.\""
   ]
  },
  {
   "cell_type": "markdown",
   "metadata": {
    "collapsed": false
   },
   "source": [
    "## TODO:\n",
    "\n",
    "- Kloomsterman sums and "
   ]
  }
 ],
 "metadata": {
  "kernelspec": {
   "display_name": "SageMath 9.0",
   "language": "sagemath",
   "metadata": {
    "cocalc": {
     "description": "Open-source mathematical software system",
     "priority": 10,
     "url": "https://www.sagemath.org/"
    }
   },
   "name": "sage-9.0"
  },
  "language_info": {
   "codemirror_mode": {
    "name": "ipython",
    "version": 3
   },
   "file_extension": ".py",
   "mimetype": "text/x-python",
   "name": "python",
   "nbconvert_exporter": "python",
   "pygments_lexer": "ipython3",
   "version": "3.7.3"
  }
 },
 "nbformat": 4,
 "nbformat_minor": 4
}