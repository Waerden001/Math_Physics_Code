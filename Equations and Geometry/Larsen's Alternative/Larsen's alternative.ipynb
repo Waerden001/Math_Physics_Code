{
 "cells": [
  {
   "cell_type": "code",
   "execution_count": 3,
   "metadata": {
    "collapsed": false
   },
   "outputs": [
   ],
   "source": [
    "load(\"moment.sage\")"
   ]
  },
  {
   "cell_type": "markdown",
   "metadata": {
    "collapsed": false
   },
   "source": [
    "Examples of finite subgroups of $SU(V)$ with $M_4(G, V)=2$\n",
    "- $G=PSL(2, \\mathbf{F}_7)$"
   ]
  },
  {
   "cell_type": "code",
   "execution_count": 8,
   "metadata": {
    "collapsed": false
   },
   "outputs": [
    {
     "data": {
      "text/plain": [
       "2.00000000000000"
      ]
     },
     "execution_count": 8,
     "metadata": {
     },
     "output_type": "execute_result"
    }
   ],
   "source": [
    "G = PSL(2, GF(7))\n",
    "irrep= G.irreducible_characters()\n",
    "c1 = irrep[1]\n",
    "c2 = irrep[2]\n",
    "\n",
    "abs_moment(G, 4, c1)\n",
    "abs_moment(G, 4, c2)"
   ]
  },
  {
   "cell_type": "markdown",
   "metadata": {
    "collapsed": false
   },
   "source": [
    "This can be confirmed by a direct decomposition of $\\mathrm{End}(V)=V\\otimes V^{\\vee}=c_1\\otimes c_2$"
   ]
  },
  {
   "cell_type": "code",
   "execution_count": 5,
   "metadata": {
    "collapsed": false
   },
   "outputs": [
    {
     "name": "stdout",
     "output_type": "stream",
     "text": [
      "(1, c_1)\n",
      "(1, c_6)\n"
     ]
    }
   ],
   "source": [
    "decompose(c1*c2, G)"
   ]
  },
  {
   "cell_type": "markdown",
   "metadata": {
    "collapsed": false
   },
   "source": [
    "- $G = SU(4, \\mathbf{F}_2)$"
   ]
  },
  {
   "cell_type": "code",
   "execution_count": 12,
   "metadata": {
    "collapsed": false
   },
   "outputs": [
    {
     "data": {
      "text/plain": [
       "2"
      ]
     },
     "execution_count": 12,
     "metadata": {
     },
     "output_type": "execute_result"
    }
   ],
   "source": [
    "G = SU(4, GF(2))\n",
    "irrep= G.irreducible_characters()\n",
    "c1 = irrep[1]\n",
    "c2 = irrep[2]\n",
    "\n",
    "abs_moment(G, 4, c1)"
   ]
  },
  {
   "cell_type": "markdown",
   "metadata": {
    "collapsed": false
   },
   "source": [
    "Notice that a direct computation of the moments is slow since $|SU(4, \\mathbf{F}_2)|=25920$, which is too big. However, a decomposition of $\\mathrm{End}(V)$ gives the answer easily."
   ]
  },
  {
   "cell_type": "code",
   "execution_count": 11,
   "metadata": {
    "collapsed": false
   },
   "outputs": [
    {
     "name": "stdout",
     "output_type": "stream",
     "text": [
      "(1, c_1)\n",
      "(1, c_10)\n"
     ]
    }
   ],
   "source": [
    "decompose(c1*c2, G)"
   ]
  }
 ],
 "metadata": {
  "kernelspec": {
   "display_name": "SageMath 9.0",
   "language": "sagemath",
   "metadata": {
    "cocalc": {
     "description": "Open-source mathematical software system",
     "priority": 10,
     "url": "https://www.sagemath.org/"
    }
   },
   "name": "sage-9.0"
  },
  "language_info": {
   "codemirror_mode": {
    "name": "ipython",
    "version": 3
   },
   "file_extension": ".py",
   "mimetype": "text/x-python",
   "name": "python",
   "nbconvert_exporter": "python",
   "pygments_lexer": "ipython3",
   "version": "3.7.3"
  }
 },
 "nbformat": 4,
 "nbformat_minor": 4
}