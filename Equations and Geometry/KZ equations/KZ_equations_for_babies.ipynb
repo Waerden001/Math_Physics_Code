{
  "nbformat": 4,
  "nbformat_minor": 0,
  "metadata": {
    "colab": {
      "name": "KZ equations for babies.ipynb",
      "provenance": []
    },
    "kernelspec": {
      "name": "python3",
      "display_name": "Python 3"
    }
  },
  "cells": [
    {
      "cell_type": "markdown",
      "metadata": {
        "id": "zrRwQoSyUqbV",
        "colab_type": "text"
      },
      "source": [
        "# KZ equations for babies\n",
        "\n",
        "References:\n",
        "- [A.Beauville, Vector bundles on Riemann surfaces and conformal field theory](http://www.numdam.org/article/RCP25_1994__46__127_0.pdf)\n",
        "- [A.Beauville, Conformal blocks, fusion rules and the Verlinde formula](https://math.unice.fr/~beauvill/pubs/Hirz65.pdf)\n",
        "- [Introduction to KZ equation](https://link.springer.com/book/10.1007%2F978-1-4612-0067-3)."
      ]
    },
    {
      "cell_type": "markdown",
      "metadata": {
        "id": "WEW16mWd2VUW",
        "colab_type": "text"
      },
      "source": [
        "# Remark: What's missing in fancy models/words in physics?\n",
        "\n",
        "It's very common to \"motivate\" the study of Legendre by saying it solve the blabla particle scattering in blabla space. For us this kind of description is still not simple enough. \n",
        "\n",
        "# Remark: What's missing in the representation-theoretic point of view?\n",
        "\n",
        "With the help of representation theory, most of the time, we don't need to write down the explicit solutions to study their properties. We write solutions as operators acting on special vectors in the representation, these vectors are actually special functions like spherical functions. See the Introduction to KZ equation paper above and think about how to fill the gap of simply writing something as a vector $v$ and a concrete special function(theta, modular forms, Legendre function, hypergeometric function, etc)."
      ]
    }
  ]
}