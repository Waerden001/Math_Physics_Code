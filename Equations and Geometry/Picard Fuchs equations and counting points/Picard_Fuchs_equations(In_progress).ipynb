{
  "nbformat": 4,
  "nbformat_minor": 0,
  "metadata": {
    "colab": {
      "name": "Picard-Fuchs equations(In progress).ipynb",
      "provenance": [],
      "collapsed_sections": []
    },
    "kernelspec": {
      "name": "python3",
      "display_name": "Python 3"
    }
  },
  "cells": [
    {
      "cell_type": "markdown",
      "metadata": {
        "id": "m4zEcCblOuXi",
        "colab_type": "text"
      },
      "source": [
        "# Problems\n",
        "(Shizhang Li demonstrates the procedure and severl subtleties in Dwork's approach to the author)\n",
        "- Count exact numbers (not modulo $p$) of points on cubics over a finite field $p$-adically. (For $p\\geq 5$, knowing the reduction actually tells us the actually number in general)\n",
        "- Count exact numbers of points on quintic surfaces over a finite field. "
      ]
    },
    {
      "cell_type": "markdown",
      "metadata": {
        "id": "7PYiQcBvO78j",
        "colab_type": "text"
      },
      "source": [
        "# Mathematics: Picard-Fuchs equations\n",
        "\n",
        "References:\n",
        "- [The cohomology of Monsky and Washnitzer](http://www.numdam.org/article/MSMF_1986_2_23__33_0.pdf)\n",
        "![Dwork, p-adic point counting](./Images/dwork.jpg)\n",
        "- [Introduction to arithmetic mirror symmetry](https://link.springer.com/chapter/10.1007/978-1-4939-2830-9_15)."
      ]
    },
    {
      "cell_type": "markdown",
      "metadata": {
        "id": "LwXOgTkDO_PT",
        "colab_type": "text"
      },
      "source": [
        "# Intuition: Physical models\n",
        "\n",
        "References:\n",
        "- Hydrogen atom\n",
        "- Zonal harmonics\n",
        "- Discrete Legendre polynomials on an interval and second order difference equation, as an analogue of the ordinary Legendre equation\n",
        "- Legendre equation as a special case of hypergeometric equation\n",
        "- Discrete power functions around a point, where's the pole?\n",
        "- Chebichev polynomials as 2d incarnation of Legendre polynomials, where's the physics?\n",
        "\n",
        "The problem of the mathematical approach is that it's kind of ad hoc. Surely, by Hodge theory, $\\{\\omega, \\frac{\\partial \\omega}{\\partial \\lambda}, \\frac{\\partial^2\\omega}{\\partial^2\\lambda}\\}$ satisfy certain linear relations. It's not so clear from the counting-points point of way. For example, \"Heat\" is essentially described by the fact that the temperature in the future at a point is the average of temperature around that point now. Laplacian or the ajacency matrix essentially means \"taking the average\". Surely, it's hard to associate intuitive meaning to every differential equation, but for such ubiqutous Picard-Fuchs equation, shouldn't it have some intuition as simple as \"Heat\"? \n",
        "- Where's Newton's law in, say, algebraic geometry?\n",
        "- What kind of objects are the heat or hydrogen atoms for the Picard-Fuchs equation, the Picard-Fuchs equation is just the equation of motion of that object govered by the general rule, Newton's law)? \n",
        "\n",
        "1. Legendre equation essentially comes form the Laplace equation with central potential.\n",
        "2. Legendre polynomials, law of large numbers.\n",
        "\n",
        "3. Incarnations of Laplace equations under special symmetry (Legendre equation, certain hypergeometric equation)\n",
        "\n",
        "4. Relations among differential operators, but why we have such relations? Laplace operators can be written in different ways?\n",
        "\n",
        "# Legendre equation as a reduction of Laplace equation with symmetry\n",
        "\n",
        "\n",
        "# (Fantasy) Why \"number of points in a family\" behaves like \"heat\"?"
      ]
    },
    {
      "cell_type": "markdown",
      "metadata": {
        "id": "eaWP-Ti6PDed",
        "colab_type": "text"
      },
      "source": [
        "# Code: Python, Sagemath and Mathematica\n",
        "It's possible to rewrite all the functions we need just in SageMath or Mathematica without much extra efforts, but we decide to leave the codes as they were written when we did the computation."
      ]
    },
    {
      "cell_type": "markdown",
      "metadata": {
        "id": "sTU7UYiAcdpg",
        "colab_type": "text"
      },
      "source": [
        "# Counting points of the affine curve $ y^2=x(x-1)(x-\\lambda)$ over $\\mathbf{F}_{p}$ \n",
        "```\n",
        "- count_point(lambda, p)\n",
        "- TODO: count_point(lambda, q=p^n),maybe with SageMath\n",
        "``\n"
      ]
    },
    {
      "cell_type": "code",
      "metadata": {
        "id": "vuYkqlwlvlKO",
        "colab_type": "code",
        "colab": {
          "base_uri": "https://localhost:8080/",
          "height": 1000
        },
        "outputId": "75dbe509-6a5f-46f1-e26c-8dc17250b0cb"
      },
      "source": [
        "def count_point(t, p):\n",
        "  count = 0\n",
        "  for x in range(0,p):\n",
        "    for y in range(0,p):\n",
        "      if (y*y-x*(x-1)*(x-t)) % p == 0:\n",
        "        count += 1\n",
        "        print(f\"({x},{y}) is on the affine curve y^2=x(x-1)(x-{t}) over Z/{p}\")\n",
        "  print(f\"We have {count} points in total on the affine affine curve y^2=x(x-1)(x-{t}) over Z/{p}\")\n",
        "\n",
        "count_point(2, 97)"
      ],
      "execution_count": 19,
      "outputs": [
        {
          "output_type": "stream",
          "text": [
            "(0,0) is on the affine curve y^2=x(x-1)(x-2) over Z/97\n",
            "(1,0) is on the affine curve y^2=x(x-1)(x-2) over Z/97\n",
            "(2,0) is on the affine curve y^2=x(x-1)(x-2) over Z/97\n",
            "(3,43) is on the affine curve y^2=x(x-1)(x-2) over Z/97\n",
            "(3,54) is on the affine curve y^2=x(x-1)(x-2) over Z/97\n",
            "(4,11) is on the affine curve y^2=x(x-1)(x-2) over Z/97\n",
            "(4,86) is on the affine curve y^2=x(x-1)(x-2) over Z/97\n",
            "(7,4) is on the affine curve y^2=x(x-1)(x-2) over Z/97\n",
            "(7,93) is on the affine curve y^2=x(x-1)(x-2) over Z/97\n",
            "(14,27) is on the affine curve y^2=x(x-1)(x-2) over Z/97\n",
            "(14,70) is on the affine curve y^2=x(x-1)(x-2) over Z/97\n",
            "(16,16) is on the affine curve y^2=x(x-1)(x-2) over Z/97\n",
            "(16,81) is on the affine curve y^2=x(x-1)(x-2) over Z/97\n",
            "(17,43) is on the affine curve y^2=x(x-1)(x-2) over Z/97\n",
            "(17,54) is on the affine curve y^2=x(x-1)(x-2) over Z/97\n",
            "(19,24) is on the affine curve y^2=x(x-1)(x-2) over Z/97\n",
            "(19,73) is on the affine curve y^2=x(x-1)(x-2) over Z/97\n",
            "(20,27) is on the affine curve y^2=x(x-1)(x-2) over Z/97\n",
            "(20,70) is on the affine curve y^2=x(x-1)(x-2) over Z/97\n",
            "(22,5) is on the affine curve y^2=x(x-1)(x-2) over Z/97\n",
            "(22,92) is on the affine curve y^2=x(x-1)(x-2) over Z/97\n",
            "(23,21) is on the affine curve y^2=x(x-1)(x-2) over Z/97\n",
            "(23,76) is on the affine curve y^2=x(x-1)(x-2) over Z/97\n",
            "(28,16) is on the affine curve y^2=x(x-1)(x-2) over Z/97\n",
            "(28,81) is on the affine curve y^2=x(x-1)(x-2) over Z/97\n",
            "(29,14) is on the affine curve y^2=x(x-1)(x-2) over Z/97\n",
            "(29,83) is on the affine curve y^2=x(x-1)(x-2) over Z/97\n",
            "(31,2) is on the affine curve y^2=x(x-1)(x-2) over Z/97\n",
            "(31,95) is on the affine curve y^2=x(x-1)(x-2) over Z/97\n",
            "(33,12) is on the affine curve y^2=x(x-1)(x-2) over Z/97\n",
            "(33,85) is on the affine curve y^2=x(x-1)(x-2) over Z/97\n",
            "(38,46) is on the affine curve y^2=x(x-1)(x-2) over Z/97\n",
            "(38,51) is on the affine curve y^2=x(x-1)(x-2) over Z/97\n",
            "(43,36) is on the affine curve y^2=x(x-1)(x-2) over Z/97\n",
            "(43,61) is on the affine curve y^2=x(x-1)(x-2) over Z/97\n",
            "(46,26) is on the affine curve y^2=x(x-1)(x-2) over Z/97\n",
            "(46,71) is on the affine curve y^2=x(x-1)(x-2) over Z/97\n",
            "(47,22) is on the affine curve y^2=x(x-1)(x-2) over Z/97\n",
            "(47,75) is on the affine curve y^2=x(x-1)(x-2) over Z/97\n",
            "(49,35) is on the affine curve y^2=x(x-1)(x-2) over Z/97\n",
            "(49,62) is on the affine curve y^2=x(x-1)(x-2) over Z/97\n",
            "(50,6) is on the affine curve y^2=x(x-1)(x-2) over Z/97\n",
            "(50,91) is on the affine curve y^2=x(x-1)(x-2) over Z/97\n",
            "(52,1) is on the affine curve y^2=x(x-1)(x-2) over Z/97\n",
            "(52,96) is on the affine curve y^2=x(x-1)(x-2) over Z/97\n",
            "(53,10) is on the affine curve y^2=x(x-1)(x-2) over Z/97\n",
            "(53,87) is on the affine curve y^2=x(x-1)(x-2) over Z/97\n",
            "(56,16) is on the affine curve y^2=x(x-1)(x-2) over Z/97\n",
            "(56,81) is on the affine curve y^2=x(x-1)(x-2) over Z/97\n",
            "(61,42) is on the affine curve y^2=x(x-1)(x-2) over Z/97\n",
            "(61,55) is on the affine curve y^2=x(x-1)(x-2) over Z/97\n",
            "(66,27) is on the affine curve y^2=x(x-1)(x-2) over Z/97\n",
            "(66,70) is on the affine curve y^2=x(x-1)(x-2) over Z/97\n",
            "(68,44) is on the affine curve y^2=x(x-1)(x-2) over Z/97\n",
            "(68,53) is on the affine curve y^2=x(x-1)(x-2) over Z/97\n",
            "(70,17) is on the affine curve y^2=x(x-1)(x-2) over Z/97\n",
            "(70,80) is on the affine curve y^2=x(x-1)(x-2) over Z/97\n",
            "(71,36) is on the affine curve y^2=x(x-1)(x-2) over Z/97\n",
            "(71,61) is on the affine curve y^2=x(x-1)(x-2) over Z/97\n",
            "(76,23) is on the affine curve y^2=x(x-1)(x-2) over Z/97\n",
            "(76,74) is on the affine curve y^2=x(x-1)(x-2) over Z/97\n",
            "(77,13) is on the affine curve y^2=x(x-1)(x-2) over Z/97\n",
            "(77,84) is on the affine curve y^2=x(x-1)(x-2) over Z/97\n",
            "(79,12) is on the affine curve y^2=x(x-1)(x-2) over Z/97\n",
            "(79,85) is on the affine curve y^2=x(x-1)(x-2) over Z/97\n",
            "(80,43) is on the affine curve y^2=x(x-1)(x-2) over Z/97\n",
            "(80,54) is on the affine curve y^2=x(x-1)(x-2) over Z/97\n",
            "(82,24) is on the affine curve y^2=x(x-1)(x-2) over Z/97\n",
            "(82,73) is on the affine curve y^2=x(x-1)(x-2) over Z/97\n",
            "(83,36) is on the affine curve y^2=x(x-1)(x-2) over Z/97\n",
            "(83,61) is on the affine curve y^2=x(x-1)(x-2) over Z/97\n",
            "(85,12) is on the affine curve y^2=x(x-1)(x-2) over Z/97\n",
            "(85,85) is on the affine curve y^2=x(x-1)(x-2) over Z/97\n",
            "(92,9) is on the affine curve y^2=x(x-1)(x-2) over Z/97\n",
            "(92,88) is on the affine curve y^2=x(x-1)(x-2) over Z/97\n",
            "(95,48) is on the affine curve y^2=x(x-1)(x-2) over Z/97\n",
            "(95,49) is on the affine curve y^2=x(x-1)(x-2) over Z/97\n",
            "(96,24) is on the affine curve y^2=x(x-1)(x-2) over Z/97\n",
            "(96,73) is on the affine curve y^2=x(x-1)(x-2) over Z/97\n",
            "We have 79 points in total on the affine affine curve y^2=x(x-1)(x-2) over Z/97\n"
          ],
          "name": "stdout"
        }
      ]
    },
    {
      "cell_type": "markdown",
      "metadata": {
        "id": "6YpFmmCYujK-",
        "colab_type": "text"
      },
      "source": [
        "# Count number of points modulo $p$ with basic representation theory\n",
        "\n",
        "References:\n",
        "\n",
        "- [A scrapbook of complex curve theory. C.H.Clemens](https://https://www.amazon.com/Scrapbook-Complex-Graduate-Studies-Mathematics/dp/0821833073)\n",
        "\n",
        "But note that **this book contains a common misunderstanding, that is the following claim is wrong**:\n",
        "\n",
        "-(Common **misunderstanding**) If $r\\geq \\frac{p+1}{2}$, then \n",
        "$$\\binom{\\frac{-1}{2}}{r}=\\frac{(-1)(-3)\\dots (-p)\\dots(2r-1)}{r!2^{r}}\\equiv 0 \\mod p$$\n",
        "\n",
        "This is easily checked to be wrong if we just take $r=p$, if you don't believe, let $p=5$. People have this common misunderstanding basically because by Dwork's theorem $\\displaystyle\\sum_{r=0}^{\\infty}\\binom{\\frac{-1}{2}}{r}^{2}\\lambda^{r}$ counts the point on the affine curve $C_{\\lambda}$ correctly and exactly, at the same time  $\\displaystyle\\sum_{r=0}^{\\frac{p-1}{2}}\\binom{\\frac{-1}{2}}{r}^{2}\\lambda^{r}$ computes the number of points of $C_{\\lambda}$ modulo $p$, it's tentative to believe that this is becase all coefficients of higher order terms are divisable by $p$, **it's intuitive, but  it's also wrong**, as we already showed counter examples. The exact reason is much subtler than the **false claim** above, for details read the original papers, for example\n",
        "- [The cohomology of Monsky and Washnitzer](http://www.numdam.org/article/MSMF_1986_2_23__33_0.pdf)\n"
      ]
    },
    {
      "cell_type": "markdown",
      "metadata": {
        "id": "Q7QwZrCcpcvZ",
        "colab_type": "text"
      },
      "source": [
        "# TODO: Lefschetz trace formula and direct computation\n",
        "\n",
        "\n",
        "# Weil conjectures \n",
        "After **choosing** an identification between $\\overline{\\mathbf{Q}}_{\\ell}$ and $\\mathbf{C}$.\n",
        "By Deligne's proof of Weil conjectures, we know \n",
        "$$1-\\mathrm{Tr}(\\mathrm{Frob}^{*}, \\mathrm{H}^{1}(X, \\overline{\\mathbf{Q}}_{\\ell}))+p = \\#X(\\mathbf{F}_{p}).$$\n",
        "Let $\\alpha = \\mathrm{Tr}(\\mathrm{Frob}^{*}, \\mathrm{H}^{0}(X, \\Omega_{X}))$ and $\\beta = \\mathrm{Tr}(\\mathrm{Frob}^{*}, \\mathrm{H}^{1}(X, \\mathcal{O}_{X}))$, then $\\alpha\\beta =p$, $|\\alpha|=|\\beta|=\\sqrt{p}$. By the trace formula above together with the fact that we already know $\\#X(\\mathbf{F}_{p})=7+1=8$, we also have $\\alpha+\\beta=-2$. Thus in our case, $\\alpha$, $\\beta$ are the roots of\n",
        "$$\\mathrm{det}(xI-\\mathrm{Frob}^{*}, \\mathrm{H}^{1}(X, \\overline{\\mathbf{Q}}_{\\ell}))=x^{2}+2x+5$$\n",
        "\n",
        "Question: Can we tell apart $-1+2i$ and $-1-2i$ or equivalently, can we ask the question that wether $\\alpha=-1+2i$ or $\\alpha=-1-2i$?\n",
        "\n",
        "The short answer is YES, but **it depends on our choice of $i$ in** $\\mathbf{Z}_{5}$.\n"
      ]
    },
    {
      "cell_type": "markdown",
      "metadata": {
        "id": "cp0hs511uoAT",
        "colab_type": "text"
      },
      "source": [
        "# Count points $p$-adically\n",
        "\n",
        "- TODO: write code to work out Dwork's theorem for any $\\lambda$ and any $q=p^{n}$.\n",
        "- Up to what $\\mathbf{Z}/p^{n}$ we can safely see the actual Forb eigenvalue must be $-1+2i$? "
      ]
    },
    {
      "cell_type": "markdown",
      "metadata": {
        "id": "pp3x3rk9OTtF",
        "colab_type": "text"
      },
      "source": [
        "# Mathematica session\n",
        "\n",
        "```\n",
        "Picard-Fuchs equation with Mathematica.ipynb in this folder\n",
        "```"
      ]
    },
    {
      "cell_type": "markdown",
      "metadata": {
        "id": "KtldgbacIZDI",
        "colab_type": "text"
      },
      "source": [
        "# Check $-1+2i=13 = \\mathrm{Igusa}^{5}(7)h(7)$ in SageMath\n",
        "\n",
        "\n",
        "```SageMath\n",
        "# SageMath code\n",
        "#The list comes from Mathematica computation\n",
        "coefficient = [7, -(133/4), 6223/64, -(48125/256), 4495295/16384, -(19757157/65536), \\\n",
        "276759847/1048576, -(779369773/4194304), 132974445695/1073741824, \\\n",
        "-(390480510525/4294967296), 5408254767727/68719476736, \\\n",
        "-(16649912252813/274877906944), 584422637995287/17592186044416]\n",
        "\n",
        "sep = [list(ele.as_integer_ratio()) for ele in coefficient]\n",
        "new = [[ele[0] % 25, ele[1]%25] for ele in sep]\n",
        "final = [ele[0] * inverse_mod(ele[1],25) for ele in new]\n",
        "ans = 0\n",
        "for k in range(len(final)):\n",
        "    ans += (final[k]*(7^k))\n",
        "    ans = ans % 25\n",
        "ans\n",
        "\n",
        "---------\n",
        "\n",
        "ans = 13\n",
        "\n",
        "```"
      ]
    },
    {
      "cell_type": "markdown",
      "metadata": {
        "id": "1Xc5D_RKbGxD",
        "colab_type": "text"
      },
      "source": [
        "# Remark\n",
        "- Symmetry on the $j$-line.\n",
        "- Points in $\\mathbf{F}_{25}$ v.s. points in $\\mathbf{Z}/25$.\n",
        "- Neither Dwork's method or Weil conjectures tell us information of number if point of the curve over $\\mathbf{Z}/25$, so how do we compute these numbers?\n",
        "- We can't plug in $i$ directly in the Dwork function, everything is $p$-adic there. \n",
        "\n",
        " "
      ]
    },
    {
      "cell_type": "markdown",
      "metadata": {
        "id": "gN6Gp--pS_lb",
        "colab_type": "text"
      },
      "source": [
        "# Intuition( coulbe be \"nonsense\"): Physical models\n",
        "\n",
        "References:\n",
        "\n",
        "- [Searching tabs](https://chrome-extension://edacconmaakjimmfgnblocblbcdcpbko/main.html#HnFrkvxhgh0oRdzrcoItva8cVQktP2Rc)\n",
        "- [More discrete Legendre polynomials](https://www.researchgate.net/publication/334633800_Basic_Analogue_of_Legendre_Polynomial_and_its_Difference_Equation/link/5d3712b04585153e591a5bd0/download)\n",
        "- [Discrete Legendre polynomials](https://onlinelibrary.wiley.com/doi/pdf/10.1002/nme.1620080406)\n",
        "- Hydrogen atom\n",
        "- Zonal harmonics\n",
        "- Discrete Legendre polynomials on an interval and second order difference equation, as an analogue of the ordinary Legendre equation\n",
        "- Legendre equation as a special case of hypergeometric equation\n",
        "- Discrete power functions around a point, where's the pole?\n",
        "- Chebichev polynomials as 2d incarnation of Legendre polynomials, where's the physics?\n",
        "\n",
        "The problem of the mathematical approach is that it's kind of ad hoc. Surely, by Hodge theory, $\\{\\omega, \\frac{\\partial \\omega}{\\partial \\lambda}, \\frac{\\partial^2\\omega}{\\partial^2\\lambda}\\}$ satisfy certain linear relations. It's not so clear from the counting-points point of way. For example, \"Heat\" is essentially described by the fact that the temperature in the future at a point is the average of temperature around that point now. Laplacian or the ajacency matrix essentially means \"taking the average\". Surely, it's hard to associate intuitive meaning to every differential equation, but for such ubiqutous Picard-Fuchs equation, shouldn't it have some intuition as simple as \"Heat\"? \n",
        "- Where's Newton's law in, say, algebraic geometry?\n",
        "- What kind of objects are the heat or hydrogen atoms for the Picard-Fuchs equation, the Picard-Fuchs equation is just the equation of motion of that object govered by the general rule, Newton's law)? \n",
        "\n",
        "1. Legendre equation essentially comes form the Laplace equation with central potential.\n",
        "2. Legendre polynomials, law of large numbers.\n",
        "\n",
        "3. Incarnations of Laplace equations under special symmetry (Legendre equation, certain hypergeometric equation)\n",
        "\n",
        "4. Relations among differential operators, but why we have such relations? Laplace operators can be written in different ways?\n",
        "\n",
        "# Legendre equation as a reduction of Laplace equation with symmetry\n",
        "\n",
        "This is based on the facts that Legendre equations can be deduced from the spherical part of the Laplace equation, thus there's some \"reason\" to believe solutions of Legendre equations also describe certain \"Heat diffusion\" with some highly symmetric boundary conditions. In the sphere case, it's basically the $SO(3)$ symmetry forces the Laplace equation to degenerate into the Legendre equation.\n",
        "\n",
        "# (Fantasy) Why \"number of points in a family\" behaves like \"heat\"?\n",
        "\n",
        "$$\\begin{align*}\\# \\text{of points} &= \\int_{\\gamma}\\omega\\\\\n",
        "&=\\int\\text{Probability density function}\\\\\n",
        "&=\\text{Probability}\\\\\n",
        "&= \\text{Temperature}\\end{align*}$$\n",
        "\n"
      ]
    }
  ]
}