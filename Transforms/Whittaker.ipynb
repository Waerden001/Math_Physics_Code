{
 "cells": [
  {
   "cell_type": "code",
   "execution_count": 1,
   "metadata": {},
   "outputs": [
    {
     "name": "stdout",
     "output_type": "stream",
     "text": [
      "GL(n)pack version 15th April 2015 loading ....Copyright(c) 2002-2006 Kevin A.\\\r\n",
      " \r\n",
      ">   Broughan  GL(n)pack comes with ABSOLUTELY NO WARRANTY. This is free\\\r\n",
      " \r\n",
      ">   software, and you are welcome to redistribute it under the terms of the\\\r\n",
      " \r\n",
      ">   GNU Public Licence. For assistance consult kab@waikato.ac.nz .\r\n"
     ]
    },
    {
     "ename": "SetDelayed::write",
     "evalue": "Tag UpperTriangularMatrixQ in UpperTriangularMatrixQ[m_] is Protected.",
     "output_type": "error",
     "traceback": [
      "\u001b[0;31mSetDelayed::write: Tag UpperTriangularMatrixQ in UpperTriangularMatrixQ[m_] is Protected.\u001b[0m"
     ]
    },
    {
     "name": "stdout",
     "output_type": "stream",
     "text": [
      "GL(n)PACK loaded.\r\n"
     ]
    }
   ],
   "source": [
    "Needs[\"gln`\"]"
   ]
  },
  {
   "cell_type": "code",
   "execution_count": 2,
   "metadata": {},
   "outputs": [
    {
     "data": {
      "text/html": [
       "<div><img alt=\"Output\" src=\"data:image/png;base64,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\"></div>"
      ],
      "text/plain": [
       "    v1              1\n",
       "2 Pi   Sqrt[y1] K[-(-) + v1, 2 Pi y1]\n",
       "                    2\n",
       "-------------------------------------\n",
       "              Gamma[v1]"
      ]
     },
     "execution_count": 2,
     "metadata": {
      "text/html": [],
      "text/plain": []
     },
     "output_type": "execute_result"
    }
   ],
   "source": [
    "Whittaker[{{y1, 0}, {0, 1}}, {v1}, {1}, u][[4]]"
   ]
  },
  {
   "cell_type": "code",
   "execution_count": 3,
   "metadata": {},
   "outputs": [
    {
     "data": {
      "text/html": [
       "<div><img alt=\"Output\" src=\"data:image/png;base64,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\"></div>"
      ],
      "text/plain": [
       "     -(1/2) + 3 v1 + 3 v2   1 + v1/2 - v2/2   1 - v1/2 + v2/2\n",
       "(8 Pi                     y1                y2                \n",
       " \n",
       "                 -1 + (3 (v1 - v2))/2   -2 + 3 v1 + 3 v2                 2\n",
       ">     Integrate[u                     K[----------------, 2 Pi Sqrt[1 + u ] y1] \n",
       "                                               2\n",
       " \n",
       "          -2 + 3 v1 + 3 v2                 -2\n",
       ">       K[----------------, 2 Pi Sqrt[1 + u  ] y2], {u, 0, Infinity}]) / \n",
       "                 2\n",
       " \n",
       "           3 v1        3 v2        -1 + 3 v1 + 3 v2\n",
       ">   (Gamma[----] Gamma[----] Gamma[----------------])\n",
       "            2           2                 2"
      ]
     },
     "execution_count": 3,
     "metadata": {
      "text/html": [],
      "text/plain": []
     },
     "output_type": "execute_result"
    }
   ],
   "source": [
    "Whittaker[{{y1 y2, 0, 0}, {0, y1, 0}, {0, 0, 1}}, {v1, v2}, {1, 1}, \n",
    "  u][[4]]"
   ]
  },
  {
   "cell_type": "code",
   "execution_count": 2,
   "metadata": {},
   "outputs": [
    {
     "data": {
      "text/html": [
       "<div><img alt=\"Output\" src=\"data:image/png;base64,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\"></div>"
      ],
      "text/plain": [
       "         2\n",
       "{{y, x, x }, {2 y, 0, x}, {0, x, 1}}"
      ]
     },
     "execution_count": 2,
     "metadata": {
      "text/html": [],
      "text/plain": []
     },
     "output_type": "execute_result"
    }
   ],
   "source": [
    "g={{y,x, x^2},{2y,0,x},{0,x,1}}"
   ]
  },
  {
   "cell_type": "code",
   "execution_count": 4,
   "metadata": {},
   "outputs": [
    {
     "data": {
      "text/html": [
       "<div><img alt=\"Output\" src=\"data:image/png;base64,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\"></div>"
      ],
      "text/plain": [
       "\n",
       "\n",
       "\n",
       "                        2\n",
       "          x (2 + x - 2 x ) y\n",
       "--------------------------------------\n",
       "          2        4      2      2  2\n",
       "Sqrt[1 + x ] Sqrt[x  + 4 y  + 4 x  y ]\n",
       " \n",
       "             4\n",
       "            x         2     3    5      2      2  2\n",
       "     Sqrt[------ + 4 y ] (-x  + x  + 2 y  + 2 x  y )\n",
       "               2\n",
       "          1 + x\n",
       "     -----------------------------------------------\n",
       "                     2    4      2      2  2\n",
       ">          Sqrt[1 + x ] (x  + 4 y  + 4 x  y )\n",
       " \n",
       "\n",
       "\n",
       "\n",
       "         2\n",
       "      2 x\n",
       "     ------\n",
       "          2\n",
       ">    1 + x\n",
       "\n",
       "\n",
       "\n",
       "\n",
       "\n",
       "\n",
       "\n",
       "\n",
       "0\n",
       " \n",
       "             4\n",
       "            x         2\n",
       "     Sqrt[------ + 4 y ]\n",
       "               2\n",
       "          1 + x\n",
       "     -------------------\n",
       "                  2\n",
       ">       Sqrt[1 + x ]\n",
       " \n",
       "\n",
       "\n",
       "\n",
       "\n",
       "       x\n",
       "     ------\n",
       "          2\n",
       ">    1 + x\n",
       "\n",
       "\n",
       "\n",
       "\n",
       "\n",
       "\n",
       "\n",
       "\n",
       "0\n",
       " \n",
       "\n",
       "\n",
       "\n",
       "\n",
       "\n",
       "\n",
       "\n",
       ">    0\n",
       " \n",
       "\n",
       "\n",
       "\n",
       "\n",
       "\n",
       "\n",
       "\n",
       ">    1"
      ]
     },
     "execution_count": 4,
     "metadata": {
      "text/html": [],
      "text/plain": []
     },
     "output_type": "execute_result"
    }
   ],
   "source": [
    "f=MatrixForm[IwasawaForm[g]]"
   ]
  },
  {
   "cell_type": "code",
   "execution_count": 5,
   "metadata": {},
   "outputs": [
    {
     "data": {
      "text/html": [
       "<div><img alt=\"Output\" src=\"data:image/png;base64,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\"></div>"
      ],
      "text/plain": [
       "\n",
       "\n",
       "\n",
       "                        2\n",
       "          x (2 + x - 2 x ) y\n",
       "--------------------------------------\n",
       "          2        4      2      2  2\n",
       "Sqrt[1 + x ] Sqrt[x  + 4 y  + 4 x  y ]   0\n",
       " \n",
       "\n",
       "\n",
       "\n",
       "\n",
       "\n",
       "\n",
       "\n",
       ">    0\n",
       "\n",
       "                                                 4\n",
       "                                                x         2\n",
       "                                         Sqrt[------ + 4 y ]\n",
       "                                                   2\n",
       "                                              1 + x\n",
       "                                         -------------------\n",
       "                                                      2\n",
       "0                                           Sqrt[1 + x ]\n",
       " \n",
       "\n",
       "\n",
       "\n",
       "\n",
       "\n",
       "\n",
       "\n",
       ">    0\n",
       "\n",
       "\n",
       "\n",
       "\n",
       "\n",
       "\n",
       "\n",
       "\n",
       "0                                        0\n",
       " \n",
       "\n",
       "\n",
       "\n",
       "\n",
       "\n",
       "\n",
       "\n",
       ">    1"
      ]
     },
     "execution_count": 5,
     "metadata": {
      "text/html": [],
      "text/plain": []
     },
     "output_type": "execute_result"
    }
   ],
   "source": [
    "MatrixForm[IwasawaYMatrix[IwasawaForm[g]]]"
   ]
  },
  {
   "cell_type": "code",
   "execution_count": null,
   "metadata": {},
   "outputs": [],
   "source": []
  }
 ],
 "metadata": {
  "kernelspec": {
   "display_name": "Wolfram Language 12.1",
   "language": "Wolfram Language",
   "name": "wolframlanguage12.1"
  },
  "language_info": {
   "codemirror_mode": "mathematica",
   "file_extension": ".m",
   "mimetype": "application/vnd.wolfram.m",
   "name": "Wolfram Language",
   "pygments_lexer": "mathematica",
   "version": "12.0"
  }
 },
 "nbformat": 4,
 "nbformat_minor": 2
}
