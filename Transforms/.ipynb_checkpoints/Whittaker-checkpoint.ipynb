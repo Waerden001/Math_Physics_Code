{
 "cells": [
  {
   "cell_type": "code",
   "execution_count": 1,
   "metadata": {},
   "outputs": [
    {
     "name": "stdout",
     "output_type": "stream",
     "text": [
      "GL(n)pack version 15th April 2015 loading ....Copyright(c) 2002-2006 Kevin A.\\\r\n",
      " \r\n",
      ">   Broughan  GL(n)pack comes with ABSOLUTELY NO WARRANTY. This is free\\\r\n",
      " \r\n",
      ">   software, and you are welcome to redistribute it under the terms of the\\\r\n",
      " \r\n",
      ">   GNU Public Licence. For assistance consult kab@waikato.ac.nz .\r\n"
     ]
    },
    {
     "ename": "SetDelayed::write",
     "evalue": "Tag UpperTriangularMatrixQ in UpperTriangularMatrixQ[m_] is Protected.",
     "output_type": "error",
     "traceback": [
      "\u001b[0;31mSetDelayed::write: Tag UpperTriangularMatrixQ in UpperTriangularMatrixQ[m_] is Protected.\u001b[0m"
     ]
    },
    {
     "name": "stdout",
     "output_type": "stream",
     "text": [
      "GL(n)PACK loaded.\r\n"
     ]
    }
   ],
   "source": [
    "Needs[\"gln`\"]"
   ]
  },
  {
   "cell_type": "code",
   "execution_count": 2,
   "metadata": {},
   "outputs": [
    {
     "data": {
      "text/html": [
       "<div><img alt=\"Output\" src=\"data:image/png;base64,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\"></div>"
      ],
      "text/plain": [
       "    v1              1\n",
       "2 Pi   Sqrt[y1] K[-(-) + v1, 2 Pi y1]\n",
       "                    2\n",
       "-------------------------------------\n",
       "              Gamma[v1]"
      ]
     },
     "execution_count": 2,
     "metadata": {
      "text/html": [],
      "text/plain": []
     },
     "output_type": "execute_result"
    }
   ],
   "source": [
    "Whittaker[{{y1, 0}, {0, 1}}, {v1}, {1}, u][[4]]"
   ]
  },
  {
   "cell_type": "code",
   "execution_count": 3,
   "metadata": {},
   "outputs": [
    {
     "data": {
      "text/html": [
       "<div><img alt=\"Output\" src=\"data:image/png;base64,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\"></div>"
      ],
      "text/plain": [
       "     -(1/2) + 3 v1 + 3 v2   1 + v1/2 - v2/2   1 - v1/2 + v2/2\n",
       "(8 Pi                     y1                y2                \n",
       " \n",
       "                 -1 + (3 (v1 - v2))/2   -2 + 3 v1 + 3 v2                 2\n",
       ">     Integrate[u                     K[----------------, 2 Pi Sqrt[1 + u ] y1] \n",
       "                                               2\n",
       " \n",
       "          -2 + 3 v1 + 3 v2                 -2\n",
       ">       K[----------------, 2 Pi Sqrt[1 + u  ] y2], {u, 0, Infinity}]) / \n",
       "                 2\n",
       " \n",
       "           3 v1        3 v2        -1 + 3 v1 + 3 v2\n",
       ">   (Gamma[----] Gamma[----] Gamma[----------------])\n",
       "            2           2                 2"
      ]
     },
     "execution_count": 3,
     "metadata": {
      "text/html": [],
      "text/plain": []
     },
     "output_type": "execute_result"
    }
   ],
   "source": [
    "Whittaker[{{y1 y2, 0, 0}, {0, y1, 0}, {0, 0, 1}}, {v1, v2}, {1, 1}, \n",
    "  u][[4]]"
   ]
  },
  {
   "cell_type": "code",
   "execution_count": 1,
   "metadata": {},
   "outputs": [
    {
     "data": {
      "text/html": [
       "<div><img alt=\"Output\" src=\"data:image/png;base64,iVBORw0KGgoAAAANSUhEUgAAAYQAAAAfCAIAAABoCS2wAAAAqXpUWHRSYXcgcHJvZmlsZSB0eXBlIGV4aWYAAHjaVU7bDQMhDPtnio6QFw6Mc7oDqRt0/Jo7VKlW4iSWEyjj857ltaDWStRs6IAQ0aPbwabJA2eoqBhrbMl+9dZ16+U5IWJHa7JEfeZ5zhv7pISnoUIzyGGSic6+sSOjFpOamDgBGhWXSZysA5lcQ6Ka+LEWF2zkv3vAOV/8kZvLnQczyOp8xWUrIJt3Gr8+EztMmLIMawAAAAlwSFlzAAASdAAAEnQB3mYfeAAAADx0RVh0U29mdHdhcmUAQ3JlYXRlZCB3aXRoIHRoZSBXb2xmcmFtIExhbmd1YWdlIDogd3d3LndvbGZyYW0uY29tXKKmhQAAACF0RVh0Q3JlYXRpb24gVGltZQAyMDIwOjA0OjE4IDAwOjA2OjI5GX5a3QAABaxJREFUeJztnT92oz4Qx4ff26PAFnk5AT6BnSaV23SitJt0KdNtA6Xp0qZys3ACcwK/FIa78CuABIz+jIwGWKxPtc+RvwwzkpBGg9cpyxIsWNLA2cTVP1lSHtbTWmOxLIn/BJ+ngeM4q6hQfB3ZbBkU0WoDSVmWZVkmLN707/uu3GGxaKEcHQ5nZZQGzgbUz31ks4WSBs7mHOannXv9lyJaeZ9b3l8slntHNjr6K6MiesdMMchmd4i7O+Xbzz/p1HZYLPNDNjr6k1H+BQ+eWhTZbKmkxxj87ZNg8eP+fjxf7GbNYuEgHB2/RjdlARTRahMDS+xGzGIxhyiBbRGSBt4+88N8yi1qEa1EycA0cFrMIJte2doQjL99HfFYQRIXQj9Qe7jRF/rQlIfLaxLmh3nv01ubLY089AHUd07qnYQJLMhDnxdillBZooRr0SQdJw996gsL40LpB1IPX4nLZfEeFo0OuzLSoIhW3h64R2hjWnE5szeuBe7TttsfEgYAEL9PtDwqopd9Bu3ZMGEAkO1fxjfI3Z2Sx8+/hNcVx4XOD5QeLqKVt88AAFgieMx1GO5h05NRvaLrLxWr3cOQpVyzWLzSrrclAxeJGPH0zz4DyPbepJsO2dGBuzuV7Zly/Rr6AJB95SIxwnhB8fczA+hsaNeHPPQBsv3Qw0bSznAbwrjQ+YHSw+Du3lg1y42WkECvobDNqqfx9daA/6kulUpLpp6xjSxLTYpTbtO0tNV+J4tX5b4rW2snm4iYdryIMwsieTo/UHtYcaU+A+cO89u09TMDgPjYmZjTYwwA7HngFLs+JAwA4k31QKwXqX74YWLfRCo+EcXlDAC+rAiDLF75Vwbt8ociWjnfL9NIFmtY/pV40fmB2sNjQ5Az4vTu9BgD+OHr8OVevQqNN0Fa9z6WGEvhkIpPQHMT/ExGA2m8GsHAcbw6u4HJP+D49+JF4wda5fHoTUbF5fz4Wx1PWbMqU9Hq3ekxVg4JNO7uo+qBXtX7jG5oTYl7DzD5gykNkDdBG6/8+3Hth7np/ANpZzALnR9IPUyBcHT0toaIPIGyWXeLmTAwfL7cTP0kh9ZmxImOkpER6idUlKrG49UkL64NMZM+/EEjXgmjqnOQxIXOD2N5GJ0zQnuYPzpakxHyFlDN2sYnzHA2rR0D4+PdmDg6fpqSuB6h2Rsp4vW9WejaYdgvevEy/1wsS1Vc6Pwwjof1JJEe5gr2TtNM1TwmrL6Y6bmo6n2NMsk8Z0Cc7uQmD32ptP5M9PM1s/HiPrbMjhSteOWhT1j/KY4LnR9G8LCWJtbDgtFBV4Fd9+6QSQdGPXTQruv2OVkP1FXWElcrqb53g3lq7SE7TIJ49c2RfJ0+XpRBkcrT+YHaw93rUB/tE74OIlhEXqngl9i8QhLx6NNT1hRXgpuqb+sbQm3ZIQriKubjJTCJqz9CvCiDopCn8wO9h3kI02MzqzP6xn3a+gDyapW6VgRDU53eKSSpT1Og/7OLGsr64sPRM28UDMer0tydumlWP8z5xz1ziBddUKj8QKk8PpTvplU1WYpqlarKBYG7O5VlWZZXhSSCj3WUbxEfjo55OBpreWDuwGy8fr5xwNkxh3iZD0pLm8APpMqS/kRTPkA2GdU/Xa+qVkmDqmJU/ENltxtApWyEuZln47V4G+Zwd3LQGzpcs96KUURnQ0pShGReGQ8iyXy7eSZP6u4oXrISGCM2DIzLsj3cbTd2zoglqNUyXdHozMtRbzdvfXj78oy/nL7ceNWv8r8/qH8Pb5ANhuKybA/L6P/vIGmwuryquyWy2Z1ivWOxiBCNDvvjahaLZRb0JyPkO55zeBXUYrEsh/5k5D5tz4jfKUU2u0vSYAOG3nm3WBaGeHRwtmnu7vQBL8pEHLLZXVEn8o7PM06cWyzToBwdvP/e2mKxWEbHJrAtFsss+B+UB6g/n5PsXwAAAABJRU5ErkJggg==\"></div>"
      ],
      "text/plain": [
       "         2\n",
       "{{y, x, x }, {2 y, 0, x}, {0, 0, 1}}"
      ]
     },
     "execution_count": 1,
     "metadata": {
      "text/html": [],
      "text/plain": []
     },
     "output_type": "execute_result"
    }
   ],
   "source": [
    "g={{y,x, x^2},{2y,0,x},{0,0,1}}"
   ]
  },
  {
   "cell_type": "code",
   "execution_count": 2,
   "metadata": {},
   "outputs": [
    {
     "data": {
      "text/html": [
       "<div><img alt=\"Output\" src=\"data:image/png;base64,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\"></div>"
      ],
      "text/plain": [
       "                     2\n",
       "IwasawaForm[{{y, x, x }, {2 y, 0, x}, {0, 0, 1}}]"
      ]
     },
     "execution_count": 2,
     "metadata": {
      "text/html": [],
      "text/plain": []
     },
     "output_type": "execute_result"
    }
   ],
   "source": [
    "MatrixForm[IwasawaForm[g]]"
   ]
  },
  {
   "cell_type": "code",
   "execution_count": null,
   "metadata": {},
   "outputs": [],
   "source": []
  }
 ],
 "metadata": {
  "kernelspec": {
   "display_name": "Wolfram Language 12.1",
   "language": "Wolfram Language",
   "name": "wolframlanguage12.1"
  },
  "language_info": {
   "codemirror_mode": "mathematica",
   "file_extension": ".m",
   "mimetype": "application/vnd.wolfram.m",
   "name": "Wolfram Language",
   "pygments_lexer": "mathematica",
   "version": "12.0"
  }
 },
 "nbformat": 4,
 "nbformat_minor": 2
}
