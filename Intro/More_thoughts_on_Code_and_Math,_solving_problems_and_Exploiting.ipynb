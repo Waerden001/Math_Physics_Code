{
  "nbformat": 4,
  "nbformat_minor": 0,
  "metadata": {
    "colab": {
      "name": "More thoughts on Code and Math, solving problems and Exploiting.ipynb",
      "provenance": [],
      "collapsed_sections": []
    },
    "kernelspec": {
      "name": "python3",
      "display_name": "Python 3"
    }
  },
  "cells": [
    {
      "cell_type": "markdown",
      "metadata": {
        "id": "677LpkD4TU3h",
        "colab_type": "text"
      },
      "source": [
        "# Problems \n",
        "\n",
        "- $1000$ people standing on a circle, starting from the $1$st one, they call out $A$ and $B$ alternatively. People call out $B$ get killed, who's the final survivor?\n",
        "\n",
        "- One out of one thousand glasses of wine is poisonuous. Ten rats are available, each can have wine from multiple glasses at the same time. Design an experiment to find the bottle with poisonuous wine.  \n",
        "\n",
        "Find a problem for a solution\n",
        "\n",
        "- Fenwick trees. Compute $\\sum_{i=1}^{n}x_{i}$ in $O(\\log n)$ time. \n",
        "\n",
        "- Prove that the eigenvetor with the maximal eigenvalue of a positive symmetric matrix is strictly positive. "
      ]
    },
    {
      "cell_type": "markdown",
      "metadata": {
        "id": "ZK-x8sFwUCJP",
        "colab_type": "text"
      },
      "source": [
        "# View a problem in a most natural and transparent way that you can find, and how?\n",
        "Solutions to those individual problems are not that important, even more, problems, brain teasers themselves are not important, since we can always find more problems in life, if you can't, you're much more than lucky. We want to know and understand geometries/models/objects/species/people, how they evolve themselves in time, and what are their relations. It's not just about pure mathematics, we'll explain even those harmless problems above teach us some lessons, for example, the importance of\n",
        "\n",
        "- being open-minded\n",
        "- knowing the ambience, rephrasing \n",
        "\n",
        "For problem-solving, it's like a gold-hunting game, we kind of know where the destination is or at least some options, we have guns to protect ourselves and cars to travel (we dont' build guns and cars even if we can), we follow the map but sometimes get confused, so we have to go on some adventures, along the way, we might need to change the tires of our car, also maybe combine our guns and car to build a tank, so we can shot down a wall. If we translate, it means we need to put a problem in a \"correct\" context, customize tools and machines and create new ones based on them if needed, follow certain maps/algorithmes and discover/explore your own paths/ways if needed. Surely, at the end of the day, we have stories and if lucky enough, we also get new tools and routines which could possibly help others. \n",
        "\n",
        "**Knowledge aspect**\n",
        "- Know the a city/map/world/geometry well, where's the river and where are the trees, where you can find stars and towers.\n",
        "-Know your tools and people's experience/methods/algorithms well.\n",
        "\n",
        "**Improvisation aspect**\n",
        "- Put a problem in the correct context\n",
        "- Build tools/machines\n",
        "- Discover/Design new methods/algorithms/routines\n",
        "\n",
        "These things appear everywhere, for example in music, if you want to arrange well or improvise well, it's good and recommended to learn music theory(knowledge), you know harmony, rhythm, scales and melody. But knowledge doesn't teach you how to express directly in a music context, this part comes more from experience instead of knowledge. But that doesn't mean we don't think about how do we \"improvise\", it is just we do and we think and let it go. As goes by, you'll learn how to swim, not necessarily in \"the correct way\", but \"in your way\". The whole process is also like reading documentations, using packages to build your own methods and libraries and create some concrete work or project. Surely, you better have a goal and global view, otherwise, events and knowledge seem random and pointless.\n",
        "\n",
        "Let's explain in slightly more concrete terms\n",
        "\n",
        "# Geometry, Dynamic, Relativity\n",
        "\n",
        "- Geometry, space and its properties: Partition of a space, symmetry of a space\n",
        "- Dynamic: Describe the \"equation of motion\"---recursion, operators/operations\n",
        "- Relative relations: Relations between spaces\n",
        "\n",
        "Different fields have different objects/geometries of interests. For example, in algebraic geometry, people study schemes and cohomology of schemes, in probability, people study probability space or sample spaces, in computer sciences prople study graphs, codes, bits, in actual coding, people deal with arraies, vectors, dictionaries, linked list, graphs. Surely, they are all very different things, one thing people tend to do in common is to understand the basic geometry, construct operations on the geometry and use them to  understand how certain objects evolve in \"time\". We give some examples to explain what do we mean by these terms \n",
        "\n",
        "## *Geometry*\n",
        "- Data structures, binary tree, linked list, dictionary, they're the \"geometries\" in actual coding.\n",
        "- Bits, $2$-adic. \n",
        "- $S_{n}$, geometry, functions and transforms on finite groups. \n",
        "  - $100$ people on a plane, a drunk passanger takes a random seat problem\n",
        "  - $100$-prisoner problem (cycle decomposition of a permutation).\n",
        "  - All kinds of sorting problems.\n",
        "  - Find anagrams\n",
        "- Trees, Bruhat-Tits trees, geometry and operations.\n",
        "- Graphs, Cayley graphs, complete graphs, Harmonic analysis, L-functions on graphs. \n",
        "- Partitions.\n",
        "  - Conditional probability\n",
        "  - Hilbert schemes of smooth algebraic surfaces\n",
        "\n",
        "## *Dynamics*\n",
        "\n",
        "- Markov chain, transition matrix\n",
        "- Fuchs equations, monofromy of a family of quintics\n",
        "- Heat, diffusions\n",
        "- Hydrogen atoms and Schrödinger equation\n",
        "- Recursion in the \"1000 people standing on a circle and killing alternating ones\" problem\n",
        "- Sum of dices divisable by $7$, recursion, Fourier transform and convolution.\n",
        "- Hecke operators, p-adic Hecke operators...\n",
        "- update pointers, quick-sort operations\n",
        "\n",
        "\n",
        "## *Invariants and functions*\n",
        "\n",
        "- Partition functions\n",
        "- Zeta functions, L-functions\n",
        "- Indicator functions\n",
        "- Stopping time, Residue time, moment-generating functions\n",
        "\n",
        "\n",
        "## *Relativity*\n",
        "\n",
        "- Chow ring of a blow-up\n",
        "- Canonical class of a blow-up\n",
        "- Grothendieck-Riemann-Roch\n",
        "- Construct a martingale from a non-martingale\n",
        "\n",
        "\n",
        "\n",
        "# Solve the problems\n",
        "\n",
        "## *Methods*\n",
        "\n",
        "- View it from a different angle\n",
        "- Change of basis\n",
        "  - Fourier transform\n",
        "  - Abel transform\n",
        "  - Radon transform\n",
        "  - Laplace transform\n",
        "\n",
        "## *Algorithms*\n",
        "\n",
        "- Spectral sequences to compute all kinds of cohomologies. \n",
        "- Dijkstra's algorithm\n",
        "\n",
        "## *Tricks*\n",
        "\n",
        "- Two pointers method. Actually, this can also be viewed as description of a specific kind of dynamics, Since we have a short rule to determine the next state. \n",
        "- $10$ quants want to know their average salaries without revealing any individual salaries.\n",
        "- $11$ pirates, any $5$ of them can't open the lock, any $6$ of them can. How many locks at least do we need and how many keys each pirate should hold?\n",
        "- $\\pi$ seconds equals one nanocentury.\n",
        "\n",
        "Gem or dust? It's really not important at all if we know this trick at all, if you know it, not bad, if you forget about it in the future, that's totally fine. If they're used by yourself or someone else in a nice way in a project or solve a problem that's not the problem itself, it becomes more interesting. \n",
        "\n",
        "On the other hand, \"gems\" are different, it's just we don't understand it well enough at present. It's the tip of an iceberg or the entrance to an interesting world. For example\n",
        "\n",
        "- Estimate the number of people in a coffee shop.\n",
        "\n",
        "\n",
        "\n",
        "\n",
        "\n",
        "# But how do we know which point of view is helpful?\n",
        "Generally speaking, **We don't know**. The hardest part is always about how to put a problem in a correct environment. For example\n",
        "\n",
        "- Water container problem. Realize the states can be stored and updated with two pointers and describe it precisely and correctly is not easy. Though, knowing the code, it **looks like trivial**.   \n",
        "- Water dum problem.\n",
        "- Find rationals point on $x^4+y^4=z^4$. (One way is to consider an algebraic map to the elliptic curve $y^2=x^3-x$).\n",
        "\n",
        "Solutions always don't contain the hardest part of problem-solving. Surely, a solution contains all the hard part of the solution itself, but all the time spent processing, rephrasing the problem usually can't be found in  the final solution. How do you describe \"the eigenvector with the maximal eigenvalue\". \n",
        "How do we know express a number in bits help the design of the problem? But that's actually the part we need to improve. If we already know a point of view of a method works, it's only a matter of time and getting hands dirty. It's kind of like art, there's no way to conquer this diffculty. It's more about experience instead of logic. Experience that becomes natural to you instead of hard-coded knowledge in your mind. Knowledge is easy to find these days, but it comes with burden and it's not how we like and want to deal with problems. Surely it's a procedure we need to ingrain new materials. Experience, and our ways of digesting define the way we think and solve problem.\n"
      ]
    },
    {
      "cell_type": "markdown",
      "metadata": {
        "id": "tDNdDFia_694",
        "colab_type": "text"
      },
      "source": [
        "\n",
        "# Questions always appear in the process of problem-solving\n",
        "\n",
        "\n",
        "## What do we do?\n",
        "\n",
        "- What do we actually remember in our heads or what can we actually recall without the help of anything but just ourselves? For example, we know Mathematica can help us with the computation of Whittaker functions, but how do we use this tool? Just let the computer print some of those complicated Gamma function integrals?\n",
        "\n",
        "- We can't \"understand\" everything. For example, I still don't know intuitively why the eigenvector with the maximal eigenvalue of a positive matrix is always strictly positive. I know how to prove it, but it leads to the question, how do you realize we can try to formulate it as the extreme point of $x^{t}Ax$, it's something we can check that works after knowing it works, but it doesn't appear as our first instinct. \n",
        "\n",
        "- Most of the time, in an creative or discovering situation, we don't know if something works. If we know this is a stable distribution of a Markov chain, it reduces to a problem of computation, however, we're talking about the situation before that, a situation we encounter most of the time when we're facing a new problem or project.  \n",
        "\n",
        "- Improvise, throw yourself in the wildland, and just play or drive, you'll get experience and things will become natural if you keep doing it and thinking and improving at the same time. We need to practice scales, chords, melody, fretboard knowledge and how to connect them and improvise everyday, forget about what you learn intellectually, just let it go.\n",
        "\n",
        "# Know and use spaces/objects/geometries and your tools well. Talk and act in math, programming languages, natural languages **smoothly**.\n",
        "- Can you explain quick sort in $30$s? Can you implement it correctly in $1$ min? If you can't, why do you still think you \"know\" quick sort? Moreover, what's the point of knowing quick sort? What's the point of knowing Hecke operators or Selberg trace formula to compute the trace?\n",
        "- In the Josephus question, how to express in Python/C++ the stopping rule \"kill till the last person\".\n",
        "\n",
        "# DIY or follow the map blindly, you have to tell the story\n",
        "- Do you often open the book and copy the problem and solutions and just add-on some comments afterwards? It's like learn from tap note by note and come up with some natural reasons to explain the guitarist's choices, that's good, but not enough for you to self-pilot or improvise. \n",
        "\n",
        "- If you've seen the solution, even very breifly, you can carry out the solution and clarify all cases quite confidently, but when interviewed or asked with some questions, you're not that sure about what you're doing or just vaguely remember references instead of something you can actually do on the fly.\n",
        "\n",
        "As we said before, for a song to be an integrity, we better have it in our head before building all the tracks, otherwise, it's like a bunch of disconnected things, not one piece. Even if something is well-presented, it's always good to tell it in your own way, though it's might be worse than the original version, but that's how we build our own understandings.  \n",
        "\n",
        "## What's the point of ? or What's next ?\n",
        "\n",
        "- What's the point of computing sum with Fenwich trees?\n",
        "- What's the point of knowing all those different types of sorting algorithms?\n",
        "- Why bother computing Fibnacci numbers in $O(\\log(n))$ time\n",
        "- Even if you can explain and implement quick sort easily, what are you gonna do with it? Merely storing it for a few days and forget about it all together afterwards, then why bother the hard works?\n",
        "\n",
        "We rarely want to optimize the computation of $\\sum_{i=1}^{n}x_{i}$ with Fenwick trees anyway, otherwise, all kinds of simple computations can be optimized and they really obscure the main problem and most of the time, this kind of optimizations don't help at all. So why bother knowing and implementing all these method? Just because someone might ask us to \"implement a Fenwick tree\"? \n",
        "\n",
        "These questions are hard to answer, but if we can incorprate sparodic problems in a more global framework, they start making sense. For example, Fenwick trees is just another example about how do we manipulate bits and relations between bits and binary trees. Moreover, view it as \"bipartition\", it also tells us how the fast computation of Fibnacci numbers, insertion in an array are the same idea but different incarnations. Understanding the differences and connections also teach us how important to be open-minded, how \"easy\" and \"hard\" are very relative terms with respect to the context, for example, taking the parent node or left/right child is straightforward if we pointers, but it feels different if we use bits, and the existense (not the proof) of convariance inequality natural if we change the basis to the probability world, but it's highly non-trivial in the world of characteristic functions.   \n",
        "\n",
        "\n",
        "\n",
        "\n",
        "\n"
      ]
    },
    {
      "cell_type": "markdown",
      "metadata": {
        "id": "xo5xlNPLzat6",
        "colab_type": "text"
      },
      "source": [
        "# Solutions to the sample problems.\n",
        "\n",
        "- (Poisonous wine) $1000<2^{10} =1024$. They can be expanded as binary numbers with at most $10$ digits. Let $F(k)$ be the position of $1$'s in the binary expansion of the number $k$. For example:\n",
        "\n",
        "```\n",
        "1: 0000000001, F(1)={1}\n",
        "5: 0000000101, F(5)={1,3}\n",
        "1000: 1111101000, F(1000)={4, 6,7,8,9,10}\n",
        "```\n",
        "Now the method is just to feed the $k$-th wine to the F(k)-th rats. Note that no two numbers have the same $F(k)$'s. Then the lables of the dead rats after force-feding the wines give exactly $F(p)$, where $p$ is the label of the poisonous wine. In other words, we use the $i$-th rats at an indicator function for the $i$-th position in the binary expansion. \n",
        "\n",
        "\n",
        "- (Maximal eigenvector of a symmetric positive matirx $A$). Note Perron-Frobenius theorem is more general. Here we the matrix being symmetric really simplifies the problem. Let $\\lambda$ be the maximal eigenvalue of $A$. (Rephrase) Then we know\n",
        "\n",
        "$$\\lambda = \\mathrm{sup}_{||x||=1}x^{t}Ax$$\n",
        "If some component of $x$ is non-positive, we can assume it's $x_{1}$. Let's first prove it can't be strictly negative, since \n",
        "\n",
        "$$x^tAx= a_{11}x_{1}^{2}+2x_{1}\\sum a_{1j}x_{j}+\\sum_{i,j=2}^{n}a_{ij}x_{i}x_{j}$$\n",
        "Note that by the positivity of $A$, $x$ can't be $(*, 0, 0, \\dots, 0)$. Thus at least one of $x_{j}$ ($j\\geq 2$) is non-zero, and it's actually strictly positive, otherwise we only need to consider $-x$. If we change the sign of this positive $x_{j}$, together with the fact $x_{1}$ is negative, the second term in the expansion tells us $x^{t}Ax$ becomes strictly larger, which contradicts the description of the maximal eigenvalue. \n",
        "\n",
        "- (Fenwick tree)\n",
        "\n",
        "- (Josephus problem). Note in the code how do we use \n",
        "  - Linked list\n",
        "  - Recursion \n",
        "  - Power recursion\n",
        "to solve the problem"
      ]
    },
    {
      "cell_type": "markdown",
      "metadata": {
        "id": "C9mv1YhMzfWI",
        "colab_type": "text"
      },
      "source": [
        "# Code: Jusephus problem"
      ]
    },
    {
      "cell_type": "code",
      "metadata": {
        "id": "QwL1kSiDHFU7",
        "colab_type": "code",
        "colab": {}
      },
      "source": [
        "# Python program to demonstrate \n",
        "# circular linked list traversal \n",
        "\n",
        "# Structure for a Node \n",
        "class Node: \n",
        "\t\n",
        "\t# Constructor to create a new node \n",
        "\tdef __init__(self, data): \n",
        "\t\tself.data = data \n",
        "\t\tself.next = None\n",
        "\n",
        "class CircularLinkedList: \n",
        "\t\n",
        "\t# Constructor to create a empty circular linked list \n",
        "\tdef __init__(self): \n",
        "\t\tself.head = None\n",
        "\n",
        "\t# Function to insert a node at the beginning of a \n",
        "\t# circular linked list \n",
        "\tdef push(self, data): \n",
        "\t\tptr1 = Node(data) \n",
        "\t\ttemp = self.head \n",
        "\t\t\n",
        "\t\tptr1.next = self.head \n",
        "\n",
        "\t\t# If linked list is not None then set the next of \n",
        "\t\t# last node \n",
        "\t\tif self.head is not None: \n",
        "\t\t\twhile(temp.next != self.head): \n",
        "\t\t\t\ttemp = temp.next\n",
        "\t\t\ttemp.next = ptr1 \n",
        "\n",
        "\t\telse: \n",
        "\t\t\tptr1.next = ptr1 # For the first node \n",
        "\n",
        "\t\tself.head = ptr1 \n",
        "\n",
        "\t# Function to print nodes in a given circular linked list \n",
        "\tdef printList(self): \n",
        "\t\ttemp = self.head \n",
        "\t\tif self.head is not None: \n",
        "\t\t\twhile(True): \n",
        "\t\t\t\tprint(temp.data) \n",
        "\t\t\t\ttemp = temp.next\n",
        "\t\t\t\tif (temp == self.head): \n",
        "\t\t\t\t\tbreak\n",
        "\n",
        "\n",
        "# Driver program to test above function \n",
        "\n",
        "# Initialize list as empty \n",
        "cllist = CircularLinkedList() \n",
        "\n",
        "# Created linked list will be 11->2->56->12 \n",
        "for ele in range(100,0,-1):\n",
        "  cllist.push(ele)\n",
        "\n",
        "#print(\"Contents of circular Linked List\")\n",
        "#cllist.printList() \n",
        "\t\t\t\n",
        "# This code is contributed by \n",
        "# Nikhil Kumar Singh(nickzuck_007) \n",
        "\n",
        "\n",
        "def josephus(circle):\n",
        "  assert circle.head != None, \"Need an nonempty linked list\"\n",
        "  current = circle.head\n",
        "\n",
        "  while(current.next!=current):\n",
        "    victim = current.next\n",
        "    current.next = victim.next\n",
        "    current = victim.next\n",
        "  \n",
        "  return current.data\n",
        "\n",
        "\n",
        "def josephus_simulate(circle):\n",
        "  assert circle.head != None, \"Need an nonempty linked list\"\n",
        "  count = 1\n",
        "  current = circle.head\n",
        "\n",
        "  while(current.next!=current):\n",
        "    if current == circle.head:\n",
        "      print(\"Round {}\".format(count))\n",
        "    victim = current.next\n",
        "    current.next = victim.next\n",
        "    print(\"{} kills {} and gives sword to {}\".format(current.data, victim.data, victim.next.data))\n",
        "    current = victim.next\n",
        "\n",
        "    if victim == circle.head:\n",
        "      circle.head = victim.next\n",
        "    if current == circle.head:\n",
        "      count += 1\n",
        "\n",
        "  print(\"----------------------------\\n The final survivor is {} \".format(current.data))\n",
        "  # return current.data\n",
        "\n",
        "\n",
        "  \n",
        "josephus_simulate(cllist)"
      ],
      "execution_count": 0,
      "outputs": []
    },
    {
      "cell_type": "markdown",
      "metadata": {
        "id": "aq4SCj3FPzie",
        "colab_type": "text"
      },
      "source": [
        "# Use recursion to solve the problem\n",
        "\n"
      ]
    },
    {
      "cell_type": "code",
      "metadata": {
        "id": "VzJw8Qu0QSL1",
        "colab_type": "code",
        "colab": {}
      },
      "source": [
        "def josephus_recursion(num, gap):\n",
        "  if num == 1:\n",
        "    return 1\n",
        "  \n",
        "  return (josephus_recursion(num-1, gap)+gap-1)%num + 1 # note that %num starts from 0\n",
        "\n",
        "josephus_recursion(14,2)\n",
        "\n",
        "\n",
        "def josephus_induction(num,gap):\n",
        "  current = 1\n",
        "  for k in range(2, num+1):\n",
        "    current = (current + gap -1) % k +1\n",
        "  return current"
      ],
      "execution_count": 0,
      "outputs": []
    },
    {
      "cell_type": "code",
      "metadata": {
        "id": "L7JGTiQ9SQaZ",
        "colab_type": "code",
        "outputId": "0bafd85d-0203-42e8-9437-6d4f81c57d80",
        "colab": {
          "base_uri": "https://localhost:8080/",
          "height": 34
        }
      },
      "source": [
        "josephus_induction(2000, 2)"
      ],
      "execution_count": 0,
      "outputs": [
        {
          "output_type": "execute_result",
          "data": {
            "text/plain": [
              "1953"
            ]
          },
          "metadata": {
            "tags": []
          },
          "execution_count": 42
        }
      ]
    },
    {
      "cell_type": "code",
      "metadata": {
        "id": "QGlGmYlnTxkU",
        "colab_type": "code",
        "colab": {}
      },
      "source": [
        "def josephus_power_recursion(num, gap):\n",
        "  if num == 1:\n",
        "    return 1\n",
        "  \n",
        "  return (josephus_power_recursion(int(num/2), gap)*2-1 % num)\n",
        "\n",
        "def josephus_power_induction(num,gap):\n",
        "  ans = [0,1]\n",
        "\n",
        "  for k in range(2, num+1):\n",
        "    if k % 2 == 0:\n",
        "      ans.append(ans[int(k/2)]*2-1)\n",
        "    else:\n",
        "      ans.append(ans[int((k-1)/2)]*2+1)\n",
        "  return ans[-1]  "
      ],
      "execution_count": 0,
      "outputs": []
    },
    {
      "cell_type": "code",
      "metadata": {
        "id": "vGykfPmrYpcM",
        "colab_type": "code",
        "outputId": "3367f06c-4461-494a-9182-e3cce89b6f22",
        "colab": {
          "base_uri": "https://localhost:8080/",
          "height": 34
        }
      },
      "source": [
        "josephus_power_induction(2000,2)"
      ],
      "execution_count": 0,
      "outputs": [
        {
          "output_type": "execute_result",
          "data": {
            "text/plain": [
              "1953"
            ]
          },
          "metadata": {
            "tags": []
          },
          "execution_count": 51
        }
      ]
    },
    {
      "cell_type": "markdown",
      "metadata": {
        "id": "iDah_K63T4SU",
        "colab_type": "text"
      },
      "source": [
        "# Hybird of mathematics and computer-efficient operations"
      ]
    },
    {
      "cell_type": "markdown",
      "metadata": {
        "id": "N4z_FSKEaHDF",
        "colab_type": "text"
      },
      "source": [
        "[Bit solution to Josephus problem](https://gist.github.com/abuzarsajjad/0b552ac514d6f83a34f44dc3c0301f62)"
      ]
    },
    {
      "cell_type": "code",
      "metadata": {
        "id": "4_uQzlCfSJ78",
        "colab_type": "code",
        "colab": {}
      },
      "source": [
        "# Leetcode Range Sum Array\n",
        "# https://www.youtube.com/watch?v=WbafSgetDDk\n",
        "\n",
        "class NumArray(object):\n",
        "\n",
        "    def __init__(self, nums):\n",
        "        \"\"\"\n",
        "        :type nums: List[int]\n",
        "        \"\"\"\n",
        "        self.size = len(nums)\n",
        "        self.nums = nums\n",
        "        self.tree = [0 for i in range(0, self.size+1)]\n",
        "        for i in range(1, self.size+1):\n",
        "            self.tree_update(i, nums[i-1])\n",
        "        \n",
        "    def tree_update(self, position, difference):\n",
        "      while(position<=self.size):\n",
        "        self.tree[position] += difference\n",
        "        position += (position & (-position))\n",
        "\n",
        "    def update(self, i, val):\n",
        "        \"\"\"\n",
        "        :type i: int\n",
        "        :type val: int\n",
        "        :rtype: None\n",
        "        \"\"\"\n",
        "        self.tree_update(i+1, val-self.nums[i])\n",
        "        self.num[i]=val\n",
        "            \n",
        "    def upperSum(self, end):\n",
        "        total = 0\n",
        "        while(end>0):\n",
        "            total += self.tree[end]\n",
        "            end -= (end & (-end))\n",
        "        return total\n",
        "        \n",
        "        \n",
        "\n",
        "    def sumRange(self, i, j):\n",
        "        \"\"\"\n",
        "        :type i: int\n",
        "        :type j: int\n",
        "        :rtype: int\n",
        "        \"\"\"\n",
        "        return self.upperSum(j+1)-self.upperSum(i)\n",
        "  "
      ],
      "execution_count": 0,
      "outputs": []
    }
  ]
}