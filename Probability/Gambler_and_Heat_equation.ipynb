{
  "nbformat": 4,
  "nbformat_minor": 0,
  "metadata": {
    "colab": {
      "name": "Gambler and Heat equation.ipynb",
      "provenance": [],
      "collapsed_sections": []
    },
    "kernelspec": {
      "name": "python3",
      "display_name": "Python 3"
    }
  },
  "cells": [
    {
      "cell_type": "markdown",
      "metadata": {
        "id": "fQshKvMSTU7h",
        "colab_type": "text"
      },
      "source": [
        "# **Gamblers ruin**: Heat equations, Brownian motion, Markov chain, Martingale and stopping time\n"
      ]
    },
    {
      "cell_type": "markdown",
      "metadata": {
        "id": "Ad3qVmGZdkeA",
        "colab_type": "text"
      },
      "source": [
        "# Problems\n",
        "- (**Drunk man**, *A Pratical Guide, Page 116*) A drunk man is at the $17$th meter of a $100$-meter-long bridge. He has $50\\%$ probability of staggering forward or backward one meter each step. \n",
        "  - What is the probability that he will make it to the end of the bridge (the $100$th meter) before the beginning (the $0$th meter)? \n",
        "  - What is the expected number of steps he takes to reach either the beginning or the end of the bridge?\n",
        "\n",
        "- (**Gambler's ruin**) Player $M$ has $1$ dollar, and Player $N$ has $2$ dollars. Each play gives one of the players $1$ dollar from the other. Player $M$ is enough better than Player $N$ that he wins $\\frac{2}{3}$ of the plays. They play until one is bankrupt.\n",
        "  - What is the chance that Player $M$ wins?\n",
        "\n",
        "- **(Gambler's value function**) You give a professional gambler $x$ dollars and send him to a casino to play until he hoses (when he has $0$ dollar) or wins (by getting $y=10^3$ dollars). The gambler gets a fee of $a$ dollars if he loses and $b$ dollars if he wins.\n",
        "  - What's his expected pay-off?\n",
        "  - What his expected number of steps to reach either of the two ends?\n",
        "\n",
        "- (**The Cliff-Hanger**) From where he stands, one step towards the cliff would send the drunken man over the edge. He takes random steps, either towards or away from the cliff. At any step his probability of taking a step away is $\\frac{2}{3}$, of a step toward the cliff is $\\frac{1}{3}$. What is his chance of escaping the cliff?"
      ]
    },
    {
      "cell_type": "markdown",
      "metadata": {
        "id": "LDgdkQJOgTOM",
        "colab_type": "text"
      },
      "source": [
        "# Mathematics\n",
        "We can compute different quantities in these problems, for example\n",
        "- probability\n",
        "- expected pay-off\n",
        "\n",
        "# **Methods**\n",
        "- # Naive method\n",
        "\n",
        "- # Markov chain, stopping time\n",
        "\n",
        "- # Heat equation\n",
        "\n",
        "# Temperature is a probability: the temperature changes in time is the probability changes as the runs you play. Eventually, the temperature stablizes and the probability stablizes. \n",
        "\n",
        "# certain Random walks or martingales are like the heat on discrete spaces.\n",
        " In the gambler's ruin problem, if it's a fair game, that is $M$ has $\\frac{1}{2}$ chance of winning and $\\frac{1}{2}$ change of losing. Then the stoping possibility is the stalbe temperature: linear from $0$ to $1$ in three steps. If $M$ starts from $1$, then he has $\\frac{1}{3}$ chance of winning. \n",
        "\n",
        "# if the probability is not $\\frac{1}{2}$, then what's the modified heat equation? We surely have some equation to describe the equilibrum temperature right? Although in this case, it's not given by the ordinary heat equation.\n",
        "\n",
        "\n",
        "**For a Brownian motion with zero drift, we can describe the density function (temperature) by the heat equation, if it has a drift what kind of equation can we use???**\n",
        "\n",
        "I don't know an answer on top of my head, however, in the discrete world, we kind of know what's the correct analogue of the heat equation:\n",
        "\n",
        "$$f_{t+1}(x)=\\frac{2}{3}f_{t}(x+1)+\\frac{1}{3}f_{t}(x-1)$$\n",
        "Assume that we have a final state, then \n",
        "$$f(x)=\\frac{2}{3}f(x+1)+\\frac{1}{3}f(x-1)$$\n",
        "which is equavalent to the equation\n",
        "$$3a_{n}=2a_{n+1}+a_{n-1}\\Rightarrow a_{n+1}-a_{n}=\\frac{1}{2}(a_{n}-a_{n-1})$$\n",
        "$$a_{n}=(a_{n}-a_{n-1})+\\dots +(a_{1}-a_{0})+a_{0}$$\n",
        "since $a_{0}=1$, we get\n",
        "$$a_{n}=\\frac{1}{2^{n}}$$\n",
        "which is the correct answer for the Cliff-Hanger problem when $p=\\frac{2}{3}$. \n",
        "\n",
        "Note that we can get "
      ]
    },
    {
      "cell_type": "markdown",
      "metadata": {
        "id": "9Z6fPj6ciB0B",
        "colab_type": "text"
      },
      "source": [
        "# **Coding**"
      ]
    },
    {
      "cell_type": "markdown",
      "metadata": {
        "id": "6IS_HnApRmgs",
        "colab_type": "text"
      },
      "source": [
        "# More problems\n",
        "\n",
        "Let $\\{S_{n}\\}$ be a modified random walk on the positive integers. $P(S_{n+1}=k+1|S_{n}=k)=\\frac{1}{2}-\\frac{1}{4k}$, $P(S_{n+1}=k-1|S_{n}=k)=\\frac{1}{2}+\\frac{1}{4k}$ for any $k\\geq 1$. $0$ is an absorbing state. Compute the probability that the walk, if started from $50$ will ever reach $100$.\n",
        "\n",
        "**Solution** Consider $f:\\mathbf{Z}_{+}\\rightarrow \\mathbf{Z}_{+}$, $k\\mapsto k^2$. We show that $\\{f(S_{n})=S_{n}^{2}\\}$ is a martingale. \n",
        "\n",
        "Since $E(S^{2}_{n}|S^{2}_{n-1}=k^2)=(k+1)^{2}(\\frac{1}{2}-\\frac{1}{4k})+(k-1)^{2}(\\frac{1}{2}+\\frac{1}{4k})=k^2=S_{n}^{2}$. Thus by the Optional Sampling theorem,\n",
        "\n",
        "$$E(S^{2}_{N})=(100)^{2}P(S_{N}=100)=E(S_{0}^{2})=50^{2}\\Rightarrow P(S_{N}=100)=\\frac{1}{4}.$$\n",
        "\n",
        "Since Wald's identity only applys to iids, we can't use it to compute the expectation of the stoping rule $N$. But we can use Markov chain techniques to solve the problem."
      ]
    },
    {
      "cell_type": "code",
      "metadata": {
        "id": "7nemyGKxuMOU",
        "colab_type": "code",
        "colab": {}
      },
      "source": [
        "\n",
        "R = QQ['x']\n",
        "ans = [0,x]\n",
        "for k in range(2,101):\n",
        "    ans.append(((4*k-4)/(2*k-3))*ans[k-1]-((2*k-1)/(2*k-3))*ans[k-2]-(4*k-4)/(2*k-3))\n",
        "\n",
        "f = ans[-1]\n",
        "\n",
        "var = -f(0)/(f(1)-f(0))\n",
        "\n",
        "num = [0]\n",
        "for ele in ans[1:]:\n",
        "    num.append(float(ele(var)))"
      ],
      "execution_count": null,
      "outputs": []
    },
    {
      "cell_type": "markdown",
      "metadata": {
        "id": "hkaF_y-luati",
        "colab_type": "text"
      },
      "source": [
        "```[0,\n",
        " 5.068520161493804,\n",
        " 16.274080645975214,\n",
        " 32.2833481201109,\n",
        " 52.29632258390086,\n",
        " 75.74157546591653,\n",
        " 102.17466232171344,\n",
        " 131.23194678765526,\n",
        " 162.60573655604966,\n",
        " 196.02936496022997,\n",
        " 231.26753788254916,\n",
        " 268.1097290072177,\n",
        " 306.3654621437595,\n",
        " 345.8608242486962,\n",
        " 386.43581532202785,\n",
        " 427.94228721560626,\n",
        " 470.24230889494874,\n",
        " 513.2068481019907,\n",
        " 556.7146927155201,\n",
        " 600.651557021251,\n",
        " 644.9093329110757,\n",
        " 689.3854562824298,\n",
        " 733.9823661597036,\n",
        " 778.6070392870831,\n",
        " 823.1705867756795,\n",
        " 867.587902242514,\n",
        " 911.7773530345255,\n",
        " 955.660507779165,\n",
        " 999.161894778319,\n",
        " 1042.2087867592604,\n",
        " 1084.7310082833928,\n",
        " 1126.6607627405467,\n",
        " 1167.9324763602303,\n",
        " 1208.4826570789514,\n",
        " 1248.2497664351715,\n",
        " 1287.1741029363534,\n",
        " 1325.1976955680045,\n",
        " 1362.2642063019555,\n",
        " 1398.3188406176587,\n",
        " 1433.3082651817806,\n",
        " 1467.1805319423731,\n",
        " 1499.885007988044,\n",
        " 1531.3723106027437,\n",
        " 1561.5942470153882,\n",
        " 1590.5037584024476,\n",
        " 1618.054867752428,\n",
        " 1644.2026312451046,\n",
        " 1668.9030928365214,\n",
        " 1692.1132417739902,\n",
        " 1713.790972794353,\n",
        " 1733.8950487842078,\n",
        " 1752.3850657031505,\n",
        " 1769.2214195907854,\n",
        " 1784.3652754956556,\n",
        " 1797.7785381796664,\n",
        " 1809.4238244652474,\n",
        " 1819.2644371046924,\n",
        " 1827.2643400619652,\n",
        " 1833.3881351069772,\n",
        " 1837.601039631033,\n",
        " 1839.8688655999445,\n",
        " 1840.1579995683335,\n",
        " 1838.4353836849602,\n",
        " 1834.6684976246215,\n",
        " 1828.8253413873176,\n",
        " 1820.874418910056,\n",
        " 1810.7847224408988,\n",
        " 1798.5257176287012,\n",
        " 1784.0673292854929,\n",
        " 1767.3799277816447,\n",
        " 1748.4343160368642,\n",
        " 1727.2017170727345,\n",
        " 1703.653762094929,\n",
        " 1677.762479075476,\n",
        " 1649.5002818074788,\n",
        " 1618.8399594065838,\n",
        " 1585.754666235207,\n",
        " 1550.217912227123,\n",
        " 1512.2035535914824,\n",
        " 1471.6857838766725,\n",
        " 1428.6391253756865,\n",
        " 1383.03842085582,\n",
        " 1334.8588255965765,\n",
        " 1284.0757997206551,\n",
        " 1230.6651008038134,\n",
        " 1174.6027767502433,\n",
        " 1115.865158920891,\n",
        " 1054.4288555028913,\n",
        " 990.2707451089611,\n",
        " 923.3679705962431,\n",
        " 853.6979330946809,\n",
        " 781.2382862355593,\n",
        " 705.9669305713645,\n",
        " 627.8620081785992,\n",
        " 546.901897435642,\n",
        " 463.0652079681611,\n",
        " 376.3307757549926,\n",
        " 286.6776583877595,\n",
        " 194.08513047786073,\n",
        " 98.53267920478355,\n",
        " 0.0]```"
      ]
    },
    {
      "cell_type": "markdown",
      "metadata": {
        "id": "QeF06ixmezp5",
        "colab_type": "text"
      },
      "source": [
        "# Remarks \n",
        "\n",
        "## Difference between a static Markov Chain and a Birth process\n",
        "\n",
        "- (Amoeba population)\n",
        "- (Markov chain model of populations)\n",
        "\n"
      ]
    },
    {
      "cell_type": "markdown",
      "metadata": {
        "id": "jWu5SyzP6Ma8",
        "colab_type": "text"
      },
      "source": [
        "# Self-similarity"
      ]
    }
  ]
}