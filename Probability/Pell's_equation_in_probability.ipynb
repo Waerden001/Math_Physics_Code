{
  "nbformat": 4,
  "nbformat_minor": 0,
  "metadata": {
    "colab": {
      "name": "Pell's_equation_in_probability.ipynb",
      "provenance": [],
      "collapsed_sections": []
    },
    "kernelspec": {
      "name": "python3",
      "display_name": "Python 3"
    }
  },
  "cells": [
    {
      "cell_type": "markdown",
      "metadata": {
        "id": "pISKz2RJAfvC",
        "colab_type": "text"
      },
      "source": [
        "# The Sock Drawer \n",
        "*Problem 1, Fifty chanllenging problems in probability*\n",
        "\n",
        "A drawer contains red socks and blacks socks. When two socks are drawn at random, the probability that both are red is $\\frac{1}{2}$.\n",
        "- How small can the number of socks in the number of socks in the drawer be?\n",
        "- How small if the number of black socks is even?\n"
      ]
    },
    {
      "cell_type": "markdown",
      "metadata": {
        "id": "cwfhN1lpBcah",
        "colab_type": "text"
      },
      "source": [
        "# Mathematics\n",
        "\n",
        "Let $n$, $k$ be the number of total socks and red socks respectively. Then we have\n",
        "$$\\frac{k}{n}\\frac{k-1}{n-1}=\\frac{1}{2}$$\n",
        "which is equivalent to the algebraic equation\n",
        "$$(2n-1)^{2}-2(2k-1)^{2}=-1.$$\n",
        "Let $x=2n-1$, $y=2k-1$, we get the *Pell's equation*\n",
        "$$x^{2}-2y^{2}=-1.$$\n",
        "To solve the problem, it's not hard to find\n",
        "- $n=4$, $k=3$ solves the first question\n",
        "- $n=21$, $k=15$ solves the second question\n",
        "\n",
        "However, the mathematics behind is more interesting---we're considering units ring $\\mathcal{O}_{K}^{\\times}$ in the number field $K=\\mathbf{Q}[\\sqrt{2}]$.\n",
        "\n",
        "\n",
        "---\n",
        "\n",
        "\n",
        "**Theorem**, *Fermat's dream and class field theory, 4.2*\n",
        "\n",
        "Let $N\\in \\mathbf{Z}_{+}$ be a non-square integer. Let $P_{N}=\\{(x,y)\\in \\mathbf{Z}\\times\\mathbf{Z}|x^{2}-Ny^{2}=\\pm 1\\}$ and $P_{N}'=\\{(x,y)\\in P_{N}|x\\geq 1, y\\geq 1\\}$. Then\n",
        "- There's a bijection between the units group $\\mathbf{Z}[\\sqrt{N}]^{\\times}$ in $\\mathbf{Z}[\\sqrt{N}]$ and $P_{N}$:\n",
        "$$\\begin{align*}\\theta:\\mathbf{Z}[\\sqrt{N}]^{\\times}&\\rightarrow P_{N}\\\\\n",
        "x+y\\sqrt{N}&\\mapsto (x, y)\n",
        "\\end{align*}$$ \n",
        "- Let $(x_{0}, y_{0})\\in P_{N}$ be a postive solution with minimal $x$-component, then it's also the solution with the minimal $y$-component, moreover\n",
        "  - $\\mathbf{Z}[\\sqrt{N}]^{\\times}=\\{\\pm(x_{0}+y_{0}\\sqrt{N})^{n}|n\\in \\mathbf{Z}\\}$\n",
        "  - $\\theta^{-1}(P_{N}')=\\{(x_{0}+y_{0}\\sqrt{N})^{n}|n\\geq 1\\}$\n",
        "---\n",
        "\n",
        "In our case, we have $N=2$, the units group $\\mathbf{Z}[\\sqrt{2}]$ is given by $\\{\\pm(1+\\sqrt{2})^{n}|n\\in \\mathbf{Z}\\}$. **In principle**, we can compute as many solutions as we want. For example, the first few positive solutions are given by coefficients of $(1+\\sqrt{2})^{n}$, $n\\geq 1$, namely\n",
        "- $(1,1)$\n",
        "- $(3,2)$\n",
        "- $(7,5)$, this gives us the solution $n=4$, $k=3$\n",
        "- $\\dots$\n",
        "\n",
        "The problem is that $P_{N}'$ contains more solutions than we need, we need the RHS of the equation to be $-1$, for the socks drawer problem, we also need $x$, $y$ to be odd integers.\n",
        "\n",
        "# Recursive formula for continued fractions\n",
        "---\n",
        "**Theorem**\n",
        "\n",
        "Given a continued fraction with terms $[a_{1}; a_{2}, \\dots, a_{n}]$, the $i$-th numerator $p_{i}$ and the $i$-th denominator $q_{i}$ of the $i$-th convergent are defined by the recursive formula:\n",
        "$$\\begin{align*}p_{i}&=a_{i}p_{i-1}+p_{i-2}\\\\\n",
        "q_{i}&= a_{i}q_{i-1}+q_{i-2}\\end{align*}$$\n",
        "where\n",
        "$$\\begin{align*}(p_{-1}, q_{-1})&= (0,1)\\\\\n",
        "(p_{0}, q_{0})&= (1,0)\\end{align*}$$\n",
        "---\n",
        "*Proof*: Induction on $n$. The first few cases can be checked directly. Let $C_{k}=[a_{1}; a_{2}, \\dots, a_{k}]$, then $C_{k+1}=[a_{1}; a_{2}, \\dots, a_{k+1}]$ can be viewed as $[a_{1}; a_{2}, \\dots, a_{k}+\\frac{1}{a_{k+1}}]$, then use the induction on $k$, a direct computation proves the recursive formula.\n",
        "\n"
      ]
    },
    {
      "cell_type": "markdown",
      "metadata": {
        "id": "gcTvm7e7Bhu4",
        "colab_type": "text"
      },
      "source": [
        "# Coding\n",
        "*Solving Pell's equations with Python*\n",
        "\n",
        "## Step 2: Dynamic programming\n",
        "Let $a_{n}+b_{n}\\sqrt{N}$ be the $n$-th solution, then we have \n",
        "$$\\begin{align*}a_{n+1}+b_{n+1}\\sqrt{N}&=(a_{n}+b_{n}\\sqrt{N})(a_{0}+b_{0}\\sqrt{N})\\\\\n",
        "&=(a_{0}a_{n}+Nb_{0}b_{n})+(b_{0}a_{n}+a_{0}b_{n})\\sqrt{N}\\end{align*}.$$\n",
        "Namely, we have the recursive formula\n",
        "$$\\begin{align*}a_{n+1}&=a_{0}a_{n}+Nb_{0}b_{n}\\\\\n",
        "b_{n+1}&=b_{0}a_{n}+a_{0}b_{n}\\end{align*}$$\n",
        "\n",
        "## Step 1: Use continued fractions to find the fundamental solution $a_{0}+b_{0}\\sqrt{N}$."
      ]
    },
    {
      "cell_type": "code",
      "metadata": {
        "id": "2sJmV_Ge3sOo",
        "colab_type": "code",
        "colab": {}
      },
      "source": [
        "from math import sqrt\n",
        "def fundamental_solution(N, rhs = -1, num_try = 1000):\n",
        "  \"\"\"Try to find the fundamental solution to Pell's equation x^2-Ny^2=rhs within num_try rounds.\n",
        "     Note that because of the precision of float numbers in the computer system, the computation for convergents of sqrt{N} might be wrong\n",
        "     but we can always check the final answer to make sure we do get the correct answer.\n",
        "\n",
        "  :param: N, int\n",
        "  :param: rhs, int\n",
        "  :param: num_try, int\n",
        "  \"\"\"\n",
        "  assert N>=2 and int(sqrt(N))**2 != N, \"Expected N to be a positive square-free integer, get {} instead\".format(N)\n",
        "  \n",
        "  current_integral = int(sqrt(N))\n",
        "  current_res = sqrt(N)-current_integral\n",
        "\n",
        "  p_older, q_older = 0,1\n",
        "  p_old, q_old = 1,0\n",
        "\n",
        "  for k in range(num_try):\n",
        "    #print(current_integral)\n",
        "    p = current_integral*p_old+p_older\n",
        "    q =  current_integral*q_old+q_older\n",
        "    if p**2-N*(q**2)==rhs:\n",
        "      return [p,q]\n",
        "    else:\n",
        "      p_older, q_older = p_old, q_old\n",
        "      p_old, q_old = p, q\n",
        "      current_integral = int(1/current_res)\n",
        "      current_res = 1/current_res-current_integral\n",
        "  return \"Fundamental solution not found in {} rounds\".format(num_try)\n",
        "\n",
        "\n",
        "\n",
        "def pell_recursion(fundamental, N, rhs=-1, step=10):\n",
        "  \"\"\"Given the fundamental solution to x^2-Ny^2=-1, compute the first n(=step) solutions\n",
        "\n",
        "  \"\"\"\n",
        "  ans = [fundamental]\n",
        "  current_x = fundamental[0]\n",
        "  current_y = fundamental[1]\n",
        "  while(len(ans)<step):\n",
        "    x = fundamental[0]*current_x+N*fundamental[1]*current_y\n",
        "    y = fundamental[1]*current_x+fundamental[0]*current_y\n",
        "    current_x = x\n",
        "    current_y = y\n",
        "    if x**2-N*(y**2)==rhs:\n",
        "      ans.append([x, y])\n",
        "  return ans\n",
        "\n",
        "def pell(N, step = 0, rhs = -1):\n",
        "  \"\"\"return the n(=step)-th positive solution of x^2-Ny^2=rhs, rhs = -1 by default.\n",
        "\n",
        "  :param: N, int\n",
        "  :param: step, int\n",
        "  :param: rhs, int\n",
        "\n",
        "  \"\"\"\n",
        "  pass"
      ],
      "execution_count": 0,
      "outputs": []
    },
    {
      "cell_type": "code",
      "metadata": {
        "id": "NhqhFWATaq8j",
        "colab_type": "code",
        "colab": {
          "base_uri": "https://localhost:8080/",
          "height": 34
        },
        "outputId": "f41b1c4d-97dc-449d-aebf-984efa6bc086"
      },
      "source": [
        "fundamental_solution(61, rhs=-1, num_try=100000)"
      ],
      "execution_count": 34,
      "outputs": [
        {
          "output_type": "execute_result",
          "data": {
            "text/plain": [
              "[29718, 3805]"
            ]
          },
          "metadata": {
            "tags": []
          },
          "execution_count": 34
        }
      ]
    },
    {
      "cell_type": "code",
      "metadata": {
        "id": "UvYp8sbtH03z",
        "colab_type": "code",
        "colab": {
          "base_uri": "https://localhost:8080/",
          "height": 185
        },
        "outputId": "efc18b98-6753-46c2-ca85-834c2b69e18d"
      },
      "source": [
        "ans = pell_recursion([1,1], 2)\n",
        "for ele in ans:\n",
        "  print(\"{}^2-2*{}^2={}\".format(ele[0], ele[1],ele[0]**2-2*(ele[1]**2)))"
      ],
      "execution_count": 4,
      "outputs": [
        {
          "output_type": "stream",
          "text": [
            "1^2-2*1^2=-1\n",
            "7^2-2*5^2=-1\n",
            "41^2-2*29^2=-1\n",
            "239^2-2*169^2=-1\n",
            "1393^2-2*985^2=-1\n",
            "8119^2-2*5741^2=-1\n",
            "47321^2-2*33461^2=-1\n",
            "275807^2-2*195025^2=-1\n",
            "1607521^2-2*1136689^2=-1\n",
            "9369319^2-2*6625109^2=-1\n"
          ],
          "name": "stdout"
        }
      ]
    },
    {
      "cell_type": "markdown",
      "metadata": {
        "id": "d8MSiDUp7jcl",
        "colab_type": "text"
      },
      "source": [
        "# Don't reinvent the wheels\n",
        "*Solving Pell's equation with SageMath, ```sympy.solvers.diaphantine``` or any online solvers*\n",
        "- [```sympy.solvers.diaphantine```](https://https://docs.sympy.org/latest/modules/solvers/diophantine.html)"
      ]
    },
    {
      "cell_type": "code",
      "metadata": {
        "id": "EuYcX8aWF0x9",
        "colab_type": "code",
        "colab": {
          "base_uri": "https://localhost:8080/",
          "height": 34
        },
        "outputId": "ef0d0acf-6057-4a87-e57e-99a4dfd1dc15"
      },
      "source": [
        "from sympy.solvers.diophantine import diophantine, diop_DN\n",
        "diop_DN(61, -1)"
      ],
      "execution_count": 35,
      "outputs": [
        {
          "output_type": "execute_result",
          "data": {
            "text/plain": [
              "[(29718, 3805)]"
            ]
          },
          "metadata": {
            "tags": []
          },
          "execution_count": 35
        }
      ]
    },
    {
      "cell_type": "markdown",
      "metadata": {
        "id": "JsANvOred0Nd",
        "colab_type": "text"
      },
      "source": [
        "# Remarks\n",
        "\n",
        "The naive algorithm that we use is not very efficient, it works if the fundamental solution is not so big. "
      ]
    }
  ]
}