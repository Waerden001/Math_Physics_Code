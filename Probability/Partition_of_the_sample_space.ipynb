{
  "nbformat": 4,
  "nbformat_minor": 0,
  "metadata": {
    "colab": {
      "name": "Partition of the sample space.ipynb",
      "provenance": [],
      "collapsed_sections": []
    },
    "kernelspec": {
      "name": "python3",
      "display_name": "Python 3"
    }
  },
  "cells": [
    {
      "cell_type": "markdown",
      "metadata": {
        "id": "8miZ8G0PTvil",
        "colab_type": "text"
      },
      "source": [
        "# Partitions of the sample space, conditional probability, geometric probability. \n",
        "\n",
        "Note that more than often, when we consider the partition of a sample space, we don't even need to construct the sample space precisely."
      ]
    },
    {
      "cell_type": "markdown",
      "metadata": {
        "id": "zHCGjyQyKdp8",
        "colab_type": "text"
      },
      "source": [
        "# Problems\n",
        "\n",
        "From coincidences to discrete computations then to continuous integrals.\n",
        "\n",
        "## Coincidences\n",
        "- (**Drunk passanger on a flight**) $100$ passangers are boarding a flight with $100$ seats in order. The first passanger is drunk, he takes a seat randomly and for $k\\geq 2$, the $k$-th passanger takes the $k$-th seat if it's still available, otherwise, the passanger takes a random seat. Compute the probability that the $100$-th takes the $100$-th seat?  \n",
        "- (**Coin toss game**) Two famblers are playing a coin toss game. Gambler $A$ has $n+1$ fair coins; $B$ has $n$ fair coins. What is the probability that $A$ will have more heads than $B$ if both flip all their coins.\n",
        "\n",
        "## Discrete\n",
        "- (**Simple casino game**) You pick up a card randomly from a deck of $52$ cards and the dealer picks another one without replacement. If you have a larger number, you win. What's your probability of winning?\n",
        "\n",
        "- (**Ticket line**) At a theater ticket office, $2n$ people are waiting to buy tickets. $n$ of them have only $5$-dollar bills and the other $n$ people have only $10$-dollar bills. The ticket seller has no change to start with. If each person buys one $5$ dollar ticket, what is the probability that all people will be able to buy their tickets without having to change positions? \n",
        "\n",
        "- (**Candy in a jar**) We have $60$ candies in a jar, $10$ are red, $20$ are green, and $30$ are blue, we keep taking candies from the jar without putting them back. What's the probability that the last candy is red?\n",
        "\n",
        "\n",
        "## Continuous \n",
        "- (**Points on a semicircle**) Given $N$ points drawn randomly on the circumference of a circle, what is the probability that they are all within a semicircle?\n",
        "\n",
        "- (**Center in a triangle**). Randomly chose $3$ different points $A$, $B$ and $C$ on a unit circle, compute the probability that the center lies in the triangle $ABC$.\n",
        "\n",
        "- (**Coin stand on a table**) View a coin as a cylinder, let $r$ be the radius of the faces, and let $h$ be the height. If we the the coin, it has $\\frac{1}{2}$ chance of standing on the ground, what's the radius-height ration $\\frac{r}{h}$?"
      ]
    },
    {
      "cell_type": "markdown",
      "metadata": {
        "id": "DcwlrOAVbJY8",
        "colab_type": "text"
      },
      "source": [
        "# Mathematics: Partition, Fibration, conditional probability."
      ]
    },
    {
      "cell_type": "markdown",
      "metadata": {
        "id": "fbriADalkDH4",
        "colab_type": "text"
      },
      "source": [
        "# Solutions\n",
        "\n",
        "\n",
        "## Simple symmetries and Coincidences\n",
        "- (**Coin toss game**) Two famblers are playing a coin toss game. Gambler $A$ has $n+1$ fair coins; $B$ has $n$ fair coins. What is the probability that $A$ will have more heads than $B$ if both flip all their coins.\n",
        "\n",
        "Let $A$, $B$ toss their first $n$ coins first, then by symmetry we have \n",
        "$$P(A-B\\geq 1)=p=P(B-A\\geq 1), P(A=B)=q=1-2p$$\n",
        "Now let $A$ toss the last coin, the probability that $A$ has more heads is given by $p+\\frac{1}{2}q=\\frac{1}{2}(2p+q)=\\frac{1}{2}$.\n",
        "- (**Simple casino game**) You pick up a card randomly from a deck of $52$ cards and the dealer picks another one without replacement. If you have a larger number, you win. What's your probability of winning? (Only need to compute the probability of a tie)\n",
        "\n",
        "## Discrete\n",
        "- (**Ticket line**) At a theater ticket office, $2n$ people are waiting to buy tickets. $n$ of them have only $5$-dollar bills and the other $n$ people have only $10$-dollar bills. The ticket seller has no change to start with. If each person buys one $5$ dollar ticket, what is the probability that all people will be able to buy their tickets without having to change positions?\n",
        "![Path Statistics](../Images/Ticket_line.png)\n",
        "All possible situations can be identified with paths from $(0,0)$ to $(2n, 0)$. All failed paths touches $y=-1$. By the reflection principle, all such paths can be identified with paths from $(0,0)$ to $(2n, -2)$. Thus what we want to compute is \n",
        "$$\\frac{\\binom{2n}{n}-\\binom{2n}{n-1}}{\\binom{2n}{n}}=\\frac{1}{n+1}.$$\n",
        "\n",
        "\n",
        "- (**Drunk passanger on a flight**) $100$ passangers are boarding a flight with $100$ seats in order. The first passanger is drunk, he takes a seat randomly and for $k\\geq 2$, the $k$-th passanger takes the $k$-th seat if it's still available, otherwise, the passanger takes a random seat. Compute the probability that the $100$-th takes the $100$-th seat? \n",
        "\n",
        "The argument in *A practical guide* is very nice but actually hard to come up with. The key observavtion is that **If the $1$-st passanger takes the $k$-th seat, then the $k$-th passanger becomes the new drunk person with the assgned seat $1$**.  Based on this observation, we can have different solutions\n",
        "\n",
        "(Method 1, Bipartition) This is essentially the argument in the book, somehow in a more mathematical flavour. Let $x_{k}$ be the seat number that the $k$-th passanger eventually chose, then all possible occurrance can be identified with permutation $$\\begin{pmatrix}1 & 2 & \\dots & 100\\\\x_{1} & x_{2} &\\dots& x_{100}\\end{pmatrix}$$\n",
        "\n",
        "But note that that they're not all the permutations since the $k$-th passanger always takes the $k$-th seat as long as it's available. Consider the event $E=\\{100 \\text{ is taken before } 1\\}$ and $F=E^{c}=\\{1 \\text{ is taken before }100\\}$. Apparently, what we want to compute is $P(F)$, we have $P(E)+P(F)=1$, now we prove $P(E)=P(F)$, we construct a bijection between sample points in $E$ and $F$, if $\\begin{pmatrix}1 & 2 & \\dots & 100\\\\x_{1} & x_{2} &\\dots& x_{100}\\end{pmatrix}\\in E$, then we have $x_{k}=100$ for some $k\\leq 99$. Then by the observation $k$ is the last drunk person before $100$, the sequence must look like \n",
        "$$\\begin{pmatrix}1 & 2 & \\dots& k&\\dots & 100\\\\x_{1} & x_{2} &\\dots&100&\\dots& 1\\end{pmatrix}.$$\n",
        "Note that from the $k+1$-th passanger to the $99$-th passanger are in order by the key obervation. Then the bijection between $E$ and $F$ is basically switching $x_{k}$ and $x_{100}$ (Check that it's a bijection). \n",
        "\n",
        "(Method 2, Recursion) By the key oberservation, if $x_{1}=1$ then we're done, if $x_{k}=k$, the situation become a similar problem of size $100-k+1$. Let $p_{k}$ be the probability that the last passanger takes the last seat, then we have \n",
        "$$p_{100}=\\frac{1}{100}+\\frac{p_{99}}{100}+\\dots+\\frac{p_{2}}{100}.$$\n",
        "More gernerally\n",
        "$$p_{k}=\\frac{1}{k}+\\frac{p_{k-1}}{k}+\\dots+\\frac{p_{2}}{k}.k\\geq 3$$\n",
        "It's easy to compute that $p_{2}=\\frac{1}{2}$, compute the first few $p_{k}$'s, it's immediately obvious that $p_{k}=\\frac{1}{2}$.\n",
        "\n",
        "Note that the first method is in the same vein of the ticket line problem and the second method is like the basketball shooting problem or the dice sum divisible by $6$ problem.  \n",
        "\n",
        "\n",
        "- (**Candy in a jar**) We have $60$ candies in a jar, $10$ are red, $20$ are green, and $30$ are blue, we keep taking candies from the jar without putting them back. What's the probability that the last candy is red?\n",
        "\n",
        "\n",
        "## Continuous \n",
        "- (**Points on a semicircle**) Given $N$ points drawn randomly on the circumference of a circle, what is the probability that they are all within a semicircle? \n",
        "\n",
        "Let $E_{k}=\\{\\text{the } n \\text{ points are contained in a semicircle and }k \\text{is the first point clockwise}\\}$. Then what we want is \n",
        "$$\\sum_{k=1}^{N}P(E_{k})=\\frac{N}{2^{N-1}}.$$\n",
        "\n",
        "- (**Center in a triangle**). Randomly chose $3$ different points $A$, $B$ and $C$ on a unit circle, compute the probability that the center lies in the triangle $ABC$.\n",
        "\n",
        "We can fix the first $A$, and by symmetry only consider $B\\in [0, \\pi]$, simple geometric consideration shows that the probability is given by \n",
        "$$p=\\int_{0}^{\\pi}\\frac{\\theta}{2\\pi}\\frac{d\\theta}{\\pi}=\\frac{1}{4}.$$\n",
        "Note that $\\frac{\\theta}{2\\pi}$ is the probability conditioning on the position of $B$ is given by $\\theta$. If we view this simple computation is a more geometric way, we have \n",
        "$$S_{1}\\leftarrow_{p_{B}} Z\\subset S^{1}\\times S^{1}\\rightarrow_{p_{C}}S^{1}$$ \n",
        "where $Z$ is defined by the condition that the center lies in $ABC$. The computation is basically a computation with respect to the fibration along $p_{B}$. Why bother saying a simple thing in such a roundabout way, well, we like geometry, it's intuitive. We can also write the integrand as $\\frac{\\theta}{2\\pi^{2}}$, from an algebraic point of view, there's no difference, but from a geometric point of view, this obscures the geometric meaning. \n",
        "\n",
        "- (**Coin stand on a table**) View a coin as a cylinder, let $r$ be the radius of the faces, and let $h$ be the height. If we the the coin, it has $\\frac{1}{3}$ chance of landing on the edge, what's the radius-height ration $\\frac{r}{h}$?\n",
        "\n",
        "The important point is to construct a geometric model. Consider the normal direction of the thick edge, notice the rotation symmetry. We find that if and only if the normal direction falls in the following band area, the coin stands on its edge, ![Band area on a sphere](../Images/Sphere_band.png)\n",
        "\n",
        "Let the extreme angle be $\\alpha$, we have\n",
        "\n",
        "$$\\frac{1}{3}=\\frac{\\int_{-\\alpha}^{\\alpha}2\\pi r\\cos(\\theta)rd\\theta}{4\\pi r^{2}}\\Rightarrow \\alpha=\\arcsin(\\frac{1}{3})\\Rightarrow \\frac{r}{h}=\\frac{\\sqrt{3^2-1}}{1}=2\\sqrt{2}.$$"
      ]
    },
    {
      "cell_type": "markdown",
      "metadata": {
        "id": "3VykzIQy-diB",
        "colab_type": "text"
      },
      "source": [
        "# Common sample space\n",
        "\n",
        "- Bit: coin toss, binary expressions\n",
        "  - Path: random walk in higher dimensions\n",
        "  - Weighted path: different jumping intervals\n",
        "- Permutations: $S_{n}$, points on a circle, things related to order, cycles, Prisoners' problem\n"
      ]
    },
    {
      "cell_type": "markdown",
      "metadata": {
        "id": "VhjtzPSn6KLR",
        "colab_type": "text"
      },
      "source": [
        "# Remarks\n",
        "\n",
        "## Conditional probability and induced measure (and maybe intersection theory?)\n",
        "\n",
        "$$P(A|B):=(i_{B}^{*}P)(A)=\\frac{P(AB)}{P(B)}$$\n",
        "\n",
        "Bayes formula is something like the intersection pairing $P(AB)$ is well-defined \n",
        "$$(i^{*}_{B}P)(A)P(B)=(i^{*}_{A}P)(B)P(A)$$\n",
        "Different ways of computing $P(B)$ leads to different forms of this simple formula, for example\n",
        "$$(i_{B}^{*}P)(A)=\\frac{(i^{*}_{A}P)(B)P(A)}{P(B|A)P(A)+P(B|A^{c})P(A^{c})}$$\n",
        "Basically because we can use any \"partition of unity\"\n",
        "$$P(-)=\\sum_{i=1}^{n}P(F_{i})(i_{F_{i}}^{*}P)(-)$$"
      ]
    }
  ]
}