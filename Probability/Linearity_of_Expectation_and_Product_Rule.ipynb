{
  "nbformat": 4,
  "nbformat_minor": 0,
  "metadata": {
    "colab": {
      "name": "Linearity of Expectation and Product Rule.ipynb",
      "provenance": [],
      "collapsed_sections": []
    },
    "kernelspec": {
      "name": "python3",
      "display_name": "Python 3"
    }
  },
  "cells": [
    {
      "cell_type": "markdown",
      "metadata": {
        "id": "VdqPvwHnV6Md",
        "colab_type": "text"
      },
      "source": [
        "# Linearity of expectations and product rule in calculus"
      ]
    },
    {
      "cell_type": "markdown",
      "metadata": {
        "id": "rz0-Or-C1f5B",
        "colab_type": "text"
      },
      "source": [
        "# Problems\n",
        "\n",
        "- (**Card game**) What is the expected number of cards that need to be turned over in a regular $52$-card deck in order to see the first ace?\n",
        "\n",
        "- (**Coupon collections**) Expected number of boxes need to be opened to get a complete set of $N$-coupons. Expected number of distince coupons in a $n$-coupon collection.\n",
        "\n",
        "- (**Divide a disk with $n$ lines**) Choose six points on a circle randomly, connecting 1 and 2, 3 and 4, 5 and 6\n",
        "gives us three lines. They divide the disk into parts. \n",
        "  - What’s the expectation of the number of parts?\n",
        "  - What if we have $2n$ points?\n",
        "\n",
        "- (**Packet network**) In packet networks, a packet can be crudely modeled as a string of IID binary digits with $P(0) = P(1) = \\frac{1}{2}$. Packets are usually separated from each other by a special bit pattern, $01111110$, called a flag. If this special pattern appears within a packet, it could be interpreted as a flag indicating the end of the packet. To prevent this probleman extra binary digit of value 0 is inserted after each appearance of $011111$ in the original string (this can be deleted after reception). \n",
        "  - Find the expected number of inserted bits in a string of length $n$."
      ]
    },
    {
      "cell_type": "markdown",
      "metadata": {
        "id": "zz_8rmT02VL0",
        "colab_type": "text"
      },
      "source": [
        "# Mathematics: Product rule and integrals in calculus. \n",
        "Derivative, integrals, inner product are same type of operators in view of Fourier transform.\n",
        "\n",
        "---\n",
        "(Theorem) No matter $X_{1}, X_{2}, \\dots, X_{n}$ are **independent or not**, we always have\n",
        "$$E[X_{1}+\\dots+X_{n}]=E[X_{1}]+\\dots+E[X_{n}].$$\n",
        "\n",
        "---\n",
        "# Divide a disk with $n$ lines\n",
        "First, we consider the expectation of parts in the situation of two lines. By symmetry, the first point can be fixed at $0$, let the second point be at $\\theta$. Let $(x,y)$ denote the positions of the two points of the second line. Then the probability of getting $3$ parts can be computed by \n",
        "$$\\frac{1}{(2\\pi)^{3}}\\int_{0}^{2\\pi}\\theta^{2}+(2\\pi-\\theta)^{2}d\\theta=\\frac{2}{3}.$$\n",
        "Thus the probability of getting $4$ parts is $\\frac{1}{3}$, the expectation is $\\frac{10}{3}$.\n",
        "Now the trick here is realizing that the total number of parts is given by the parts of the three pairs of lines. That is, if we denote the number of parts cut out by the three pairs of lines respectively by $X, Y, Z$, then the total number of parts is given by $X+Y+Z - 5$. Lastly, by the **linearity of expectation**, we get $E(X+Y+Z-5)=E(X)+E(Y)+E(Z)-5=\\frac{10}{3}\\times 3 -5 =5$.\n",
        "\n",
        "For the general case, we switch our point of view a little bit, let $Y_{k}$ be the number of new intersection points of the $k$-th line with the first $k-1$ lines. For example, $Y_{2}$ is a random variable with probability $\\frac{2}{3}$ taking value $0$, and with probability $\\frac{1}{3}$ taking value $1$. The idea is that number of new parts created by adding the $k$-th line $=$ $Y_{k}+1$, let $Y_{k,j}$ be the number of intersection point between the $k$-th line and the $j$-th line, up to a zero measure subset, we have \n",
        "$$Y_{k}=Y_{k,1}+\\dots+Y_{k,k-1}$$\n",
        "Though $Y_{k,j}$ are **not** independent to each other, by linearity of expectation, we have\n",
        "$$E[Y_{k}]=E[Y_{k,1}]+\\dots+E[Y_{k, k-1}]=\\frac{k-1}{3}$$\n",
        "Thus \n",
        "$$E[\\text{number of parts with $n$ lines}]=(E[Y_{n}]+1)+\\dots+ E[Y_{3}]+\\frac{10}{3}=\\frac{(n+2)(n+3)}{6}$$\n",
        "\n",
        "# Packet network\n",
        "For each position $i\\geq6$ in the\n",
        "original string, define $X_{i}$ as a random variable whose value is $1$ if an insertion occurs\n",
        "after the $i$-th data bit. The total number of insertions is then just the sum of $X_{i}$ from $i=6$ to\n",
        "$n$ inclusive. Since $E[X] = 2^{-6}$, the expected number of insertions is $(n-5)2^{-6}$. Note that\n",
        "the positions in which the insertions occur are highly dependent, and the problem would be quite difficult if one didn't use the linearity of expectation to avoid worrying about the dependence.\n",
        "\n",
        "\n",
        "# Card game (Xinfeng Zhou, Page 95). \n",
        "\n",
        "Sometimes, we need to come up with \"clever\" random variables to count things correctly. \n",
        "\n",
        "# Coupon collections (Xinfeng Zhou, Page 97). "
      ]
    },
    {
      "cell_type": "markdown",
      "metadata": {
        "id": "W4hT-HF12e0a",
        "colab_type": "text"
      },
      "source": [
        "# Code: Compute derivatives of Fourier transform of convolutions of distributions with Wolfram Language/Mathematica\n"
      ]
    },
    {
      "cell_type": "markdown",
      "metadata": {
        "id": "dq8Y2mpuYG1X",
        "colab_type": "text"
      },
      "source": [
        "# Remarks\n",
        "\n",
        "Some interesting questions:\n",
        "\n",
        "- What if the target of random variables $\\{X_{1}, \\dots, X_{n}\\}$ are not linear? For example, $X_{i}$ takes values in $S^{1}$?\n",
        "- What if the target is not even abelian? \n",
        "- What if the random variables are given by distributions on a non-trivial bundle, so that the target is very non-linear and topologically non-trivial?"
      ]
    }
  ]
}