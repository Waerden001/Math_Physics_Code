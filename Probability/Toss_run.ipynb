{
  "nbformat": 4,
  "nbformat_minor": 0,
  "metadata": {
    "colab": {
      "name": "Toss run.ipynb",
      "provenance": [],
      "collapsed_sections": []
    },
    "kernelspec": {
      "name": "python3",
      "display_name": "Python 3"
    }
  },
  "cells": [
    {
      "cell_type": "markdown",
      "metadata": {
        "id": "t2TERbscCzvR",
        "colab_type": "text"
      },
      "source": [
        "#Probelm: (Moivre) $r$ heads during $n$ coin tosses\n",
        "*George W.Mackey, Harmonic analysis as the exploitation of symmetry-A Historical survey, Page 8*\n",
        "\n",
        "Let $p_{n}^{r}$ be the probability that at least one \"run\" of $r$ heads will occur during $n$ coin tosses. Tosses are independent and the probability of getting heads on any given toss is $q$, where $0<q<1$. Compute $p_{n}^{r}$."
      ]
    },
    {
      "cell_type": "markdown",
      "metadata": {
        "id": "mjuQTXlFDu15",
        "colab_type": "text"
      },
      "source": [
        "# Mathematics: Generating function, Fourier transform, and Harmonic analysis on $\\mathbf{Z}$\n",
        "\n",
        "By basic probability theory, we have\n",
        "$$p_{n+1}=p_{n}+(1-p_{n-r})(1-q)q^{r}$$\n",
        "Let $x_{n}=(1-p_{n})$, then we have\n",
        "$$x_{n+1}=x_{n}+x_{n-r}(1-q)q^{r}.$$\n",
        "\n",
        "Note that we have \n",
        "$$x_{0}=x_{1}=\\dots =x_{r-1}=1, x_{r}=q^{r}.$$\n",
        "\n",
        "\n",
        "We consider the gernerating functions for $x_{n+1}$, $x_{n}$ and $x_{n-r}$, more precisely\n",
        "$$\\begin{align*}\n",
        "f(t) &= x_{0}+x_{1}t+x_{2}t^{2}+\\dots\\\\\n",
        "g(t) &= x_{r}+x_{r+1}t+x_{r+2}t^{2}+\\dots=\\frac{f(t)-x_{0}-x_{1}t-\\dots-x_{r-1}t^{r-1}}{t^r}\\\\\n",
        "h(t) &= x_{r+1}+x_{r+2}t+x_{r+3}t^{2}+\\dots=\\frac{f(t)-x_{0}-x_{1}t-\\dots-x_{r}t^{r}}{t^{r+1}}\\\\\n",
        "\\end{align*}.$$\n",
        "\n",
        "Then the resursive formula becomes an algebraic equation\n",
        "$$h(t)=g(t)+(1-q)q^{r}f(t).$$\n",
        "The answer is given by the rational function\n",
        "\n",
        "$$f(t)= \\frac{(1-t^{r})+q^rt^r}{1-t-(1-q)q^{r}t^{r+1}}.$$\n",
        "\n",
        "Thus the generating function for $p_{n}^{r}$ is given by \n",
        "$$\\frac{1}{1-t}-\\frac{(1-t^{r})+q^rt^r}{1-t-(1-q)q^{r}t^{r+1}}$$\n",
        "\n"
      ]
    },
    {
      "cell_type": "markdown",
      "metadata": {
        "id": "Y6I59ZK0Dw3d",
        "colab_type": "text"
      },
      "source": [
        "# Coding: Dynamic programming with python\n",
        "\n",
        "For fixed $r$, we denote $p_{n}^{r}$ by $p_{n}$, by the mathematical analysis above, we have\n",
        "$$p_{n+1}=p_{n}+(1-p_{n-r})(1-q)q^{r}$$\n"
      ]
    },
    {
      "cell_type": "code",
      "metadata": {
        "id": "N-TA6JgwHOLB",
        "colab_type": "code",
        "colab": {}
      },
      "source": [
        "def head_run(toss, head, head_prob):\n",
        "  \"\"\"Compute the probability of r=head run of heads in number of toss=toss total turns.\n",
        "     TODO: Handle very special cases like head=0, toss=0, head_prob=0 or head_prob=1, for these cases, this function might give wrong answers.\n",
        "\n",
        "  :param: toss, number of total tosses\n",
        "  :param: head, number of head run\n",
        "  :param: head_prob, the probability of heads up\n",
        "  \"\"\"\n",
        "  assert head_prob<=1 and head_prob>=0, \"head_probability should be a value in [0,1], get {} instead\".format(head_prob)\n",
        "  assert head<=toss, \"Expected number of heads to be smaller than number of tosses\"\n",
        "  #the 0-th element is auxilliary, so that we don't have to worry about head-1 out of range\n",
        "  ans = [0 for _ in range(toss+1)]\n",
        "  for index in range(head, toss+1):\n",
        "    if index == head:\n",
        "      ans[index] = head_prob**head\n",
        "    else:\n",
        "      ans[index]= ans[index-1]+(1-ans[index-head-1])*(1-head_prob)*(head_prob**head)\n",
        "  return ans\n"
      ],
      "execution_count": 0,
      "outputs": []
    },
    {
      "cell_type": "code",
      "metadata": {
        "id": "NJge0w0YJ6AN",
        "colab_type": "code",
        "colab": {}
      },
      "source": [
        "head_run(100, 23, 0.9)"
      ],
      "execution_count": 0,
      "outputs": []
    },
    {
      "cell_type": "markdown",
      "metadata": {
        "id": "Zkg4-Wm3PEpG",
        "colab_type": "text"
      },
      "source": [
        "# Remarks\n",
        "## Questions of similar flavour\n",
        "- Binomial coefficients $\\binom{n}{k}$\n",
        "\n",
        "The generating function for $\\binom{n}{k}$ is \n",
        "$$\\sum_{k=0}^{+\\infty}(x+y)^{k}=\\frac{1}{1-x-y}.$$\n",
        "\n",
        "To compute $\\binom{n}{k}$ explicitly, one way is to use the recursive formula\n",
        "$$\\binom{n}{k+1}=\\binom{n}{k}+\\binom{n}{k-1}$$\n",
        "\n",
        "## Mathematics v.s. Coding\n",
        "\n",
        "- Mathematics gives understanding of the problem: the generating function **in principle** gives answers in a very simple formula. If we want, we can compute as many terms as we want by expanding the formula. However, **the problem is that, we mortal people can't actually compute too many terms**, no matter by this direct expansion method or with come recursive method.\n",
        "\n",
        "- Coding gives explicit computations of as many terms as we want and as the computational power allows us---which **in practice** more or less means every explicit answer that we want. However, it only shows the number or as most the pattern of computations, it's hard to get some kind of global understanding the problem.\n",
        "\n",
        "Thus the conclusion is that, as long as any of the following is possible, then they're important\n",
        "\n",
        "- Intuition\n",
        "- Understanding/abstraction\n",
        "- Explicity/computation\n",
        "- We need all of them \n"
      ]
    }
  ]
}